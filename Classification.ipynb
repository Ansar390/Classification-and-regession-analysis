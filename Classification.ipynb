{
 "cells": [
  {
   "cell_type": "markdown",
   "metadata": {},
   "source": [
    "### Importing the libraries"
   ]
  },
  {
   "cell_type": "code",
   "execution_count": 1,
   "metadata": {},
   "outputs": [],
   "source": [
    "import pandas as pd\n",
    "import numpy as np\n",
    "from sklearn.model_selection import GridSearchCV\n",
    "from sklearn.metrics import accuracy_score\n",
    "from sklearn import metrics\n",
    "import matplotlib\n",
    "import seaborn as sns\n",
    "import matplotlib.pyplot as plt\n",
    "%matplotlib inline\n",
    "from sklearn.model_selection import train_test_split\n",
    "from sklearn.svm import SVC\n",
    "from xgboost import XGBClassifier\n",
    "import joblib\n",
    "from sklearn.tree import DecisionTreeClassifier\n",
    "from sklearn.metrics import classification_report"
   ]
  },
  {
   "cell_type": "markdown",
   "metadata": {},
   "source": [
    "### Data importing"
   ]
  },
  {
   "cell_type": "code",
   "execution_count": 2,
   "metadata": {},
   "outputs": [
    {
     "data": {
      "text/html": [
       "<div>\n",
       "<style scoped>\n",
       "    .dataframe tbody tr th:only-of-type {\n",
       "        vertical-align: middle;\n",
       "    }\n",
       "\n",
       "    .dataframe tbody tr th {\n",
       "        vertical-align: top;\n",
       "    }\n",
       "\n",
       "    .dataframe thead th {\n",
       "        text-align: right;\n",
       "    }\n",
       "</style>\n",
       "<table border=\"1\" class=\"dataframe\">\n",
       "  <thead>\n",
       "    <tr style=\"text-align: right;\">\n",
       "      <th></th>\n",
       "      <th>F1</th>\n",
       "      <th>F2</th>\n",
       "      <th>F3</th>\n",
       "      <th>F4</th>\n",
       "      <th>F5</th>\n",
       "      <th>F6</th>\n",
       "      <th>F7</th>\n",
       "      <th>F8</th>\n",
       "      <th>F9</th>\n",
       "      <th>F10</th>\n",
       "      <th>F11</th>\n",
       "      <th>F12</th>\n",
       "      <th>F13</th>\n",
       "      <th>F14</th>\n",
       "      <th>F15</th>\n",
       "      <th>Class</th>\n",
       "    </tr>\n",
       "  </thead>\n",
       "  <tbody>\n",
       "    <tr>\n",
       "      <th>0</th>\n",
       "      <td>4.92</td>\n",
       "      <td>-13.23</td>\n",
       "      <td>330</td>\n",
       "      <td>13.22</td>\n",
       "      <td>-5.51</td>\n",
       "      <td>41.10</td>\n",
       "      <td>16.72</td>\n",
       "      <td>-56.98</td>\n",
       "      <td>-748.72</td>\n",
       "      <td>20</td>\n",
       "      <td>9.75</td>\n",
       "      <td>259.66</td>\n",
       "      <td>8.00</td>\n",
       "      <td>-0.35</td>\n",
       "      <td>4.76</td>\n",
       "      <td>False</td>\n",
       "    </tr>\n",
       "    <tr>\n",
       "      <th>1</th>\n",
       "      <td>-9.33</td>\n",
       "      <td>-27.72</td>\n",
       "      <td>3</td>\n",
       "      <td>12.78</td>\n",
       "      <td>-9.12</td>\n",
       "      <td>5.31</td>\n",
       "      <td>9.90</td>\n",
       "      <td>-30.98</td>\n",
       "      <td>-436.72</td>\n",
       "      <td>2</td>\n",
       "      <td>-1.56</td>\n",
       "      <td>131.66</td>\n",
       "      <td>0.76</td>\n",
       "      <td>1.79</td>\n",
       "      <td>NaN</td>\n",
       "      <td>False</td>\n",
       "    </tr>\n",
       "    <tr>\n",
       "      <th>2</th>\n",
       "      <td>-15.09</td>\n",
       "      <td>-26.28</td>\n",
       "      <td>6</td>\n",
       "      <td>13.54</td>\n",
       "      <td>-7.75</td>\n",
       "      <td>5.67</td>\n",
       "      <td>9.93</td>\n",
       "      <td>-34.98</td>\n",
       "      <td>-482.72</td>\n",
       "      <td>2</td>\n",
       "      <td>-2.58</td>\n",
       "      <td>63.66</td>\n",
       "      <td>0.64</td>\n",
       "      <td>2.02</td>\n",
       "      <td>NaN</td>\n",
       "      <td>True</td>\n",
       "    </tr>\n",
       "    <tr>\n",
       "      <th>3</th>\n",
       "      <td>-18.09</td>\n",
       "      <td>-24.60</td>\n",
       "      <td>30</td>\n",
       "      <td>13.28</td>\n",
       "      <td>-8.61</td>\n",
       "      <td>3.51</td>\n",
       "      <td>10.02</td>\n",
       "      <td>-30.98</td>\n",
       "      <td>-414.72</td>\n",
       "      <td>2</td>\n",
       "      <td>-7.08</td>\n",
       "      <td>133.66</td>\n",
       "      <td>0.57</td>\n",
       "      <td>1.98</td>\n",
       "      <td>NaN</td>\n",
       "      <td>True</td>\n",
       "    </tr>\n",
       "    <tr>\n",
       "      <th>4</th>\n",
       "      <td>6.12</td>\n",
       "      <td>-8.64</td>\n",
       "      <td>300</td>\n",
       "      <td>14.94</td>\n",
       "      <td>-1.97</td>\n",
       "      <td>29.40</td>\n",
       "      <td>19.32</td>\n",
       "      <td>-36.98</td>\n",
       "      <td>-428.72</td>\n",
       "      <td>20</td>\n",
       "      <td>9.09</td>\n",
       "      <td>229.66</td>\n",
       "      <td>6.70</td>\n",
       "      <td>-3.83</td>\n",
       "      <td>NaN</td>\n",
       "      <td>True</td>\n",
       "    </tr>\n",
       "  </tbody>\n",
       "</table>\n",
       "</div>"
      ],
      "text/plain": [
       "      F1     F2   F3     F4    F5     F6     F7     F8      F9  F10   F11  \\\n",
       "0   4.92 -13.23  330  13.22 -5.51  41.10  16.72 -56.98 -748.72   20  9.75   \n",
       "1  -9.33 -27.72    3  12.78 -9.12   5.31   9.90 -30.98 -436.72    2 -1.56   \n",
       "2 -15.09 -26.28    6  13.54 -7.75   5.67   9.93 -34.98 -482.72    2 -2.58   \n",
       "3 -18.09 -24.60   30  13.28 -8.61   3.51  10.02 -30.98 -414.72    2 -7.08   \n",
       "4   6.12  -8.64  300  14.94 -1.97  29.40  19.32 -36.98 -428.72   20  9.09   \n",
       "\n",
       "      F12   F13   F14   F15  Class  \n",
       "0  259.66  8.00 -0.35  4.76  False  \n",
       "1  131.66  0.76  1.79   NaN  False  \n",
       "2   63.66  0.64  2.02   NaN   True  \n",
       "3  133.66  0.57  1.98   NaN   True  \n",
       "4  229.66  6.70 -3.83   NaN   True  "
      ]
     },
     "execution_count": 2,
     "metadata": {},
     "output_type": "execute_result"
    }
   ],
   "source": [
    "df=pd.read_csv('CE802_P2_Data.csv') \n",
    "df.head()"
   ]
  },
  {
   "cell_type": "markdown",
   "metadata": {},
   "source": [
    "### Separating  the dependent and independent variables"
   ]
  },
  {
   "cell_type": "code",
   "execution_count": 3,
   "metadata": {},
   "outputs": [],
   "source": [
    "X=df.drop(['Class'],axis=1)\n",
    "y=df['Class']"
   ]
  },
  {
   "cell_type": "markdown",
   "metadata": {},
   "source": [
    "###  Exploratory Data Analysis (EDA) "
   ]
  },
  {
   "cell_type": "markdown",
   "metadata": {},
   "source": [
    "1. Checking about null values"
   ]
  },
  {
   "cell_type": "code",
   "execution_count": 4,
   "metadata": {},
   "outputs": [
    {
     "name": "stdout",
     "output_type": "stream",
     "text": [
      "<class 'pandas.core.frame.DataFrame'>\n",
      "RangeIndex: 1500 entries, 0 to 1499\n",
      "Data columns (total 15 columns):\n",
      " #   Column  Non-Null Count  Dtype  \n",
      "---  ------  --------------  -----  \n",
      " 0   F1      1500 non-null   float64\n",
      " 1   F2      1500 non-null   float64\n",
      " 2   F3      1500 non-null   int64  \n",
      " 3   F4      1500 non-null   float64\n",
      " 4   F5      1500 non-null   float64\n",
      " 5   F6      1500 non-null   float64\n",
      " 6   F7      1500 non-null   float64\n",
      " 7   F8      1500 non-null   float64\n",
      " 8   F9      1500 non-null   float64\n",
      " 9   F10     1500 non-null   int64  \n",
      " 10  F11     1500 non-null   float64\n",
      " 11  F12     1500 non-null   float64\n",
      " 12  F13     1500 non-null   float64\n",
      " 13  F14     1500 non-null   float64\n",
      " 14  F15     750 non-null    float64\n",
      "dtypes: float64(13), int64(2)\n",
      "memory usage: 175.9 KB\n"
     ]
    }
   ],
   "source": [
    "X.info()"
   ]
  },
  {
   "cell_type": "markdown",
   "metadata": {},
   "source": [
    "2. Class distribution"
   ]
  },
  {
   "cell_type": "code",
   "execution_count": 5,
   "metadata": {},
   "outputs": [
    {
     "name": "stdout",
     "output_type": "stream",
     "text": [
      "True Class :  691\n",
      "False Class :  809\n"
     ]
    }
   ],
   "source": [
    "print(\"True Class : \",len(df.loc[df['Class'] == True]))\n",
    "print(\"False Class : \",len(df.loc[df['Class'] == False]))"
   ]
  },
  {
   "cell_type": "markdown",
   "metadata": {},
   "source": [
    "3. Histogram to analyze the range of values in each feature"
   ]
  },
  {
   "cell_type": "code",
   "execution_count": 6,
   "metadata": {},
   "outputs": [
    {
     "data": {
      "text/plain": [
       "array([[<AxesSubplot:title={'center':'F1'}>,\n",
       "        <AxesSubplot:title={'center':'F2'}>,\n",
       "        <AxesSubplot:title={'center':'F3'}>,\n",
       "        <AxesSubplot:title={'center':'F4'}>],\n",
       "       [<AxesSubplot:title={'center':'F5'}>,\n",
       "        <AxesSubplot:title={'center':'F6'}>,\n",
       "        <AxesSubplot:title={'center':'F7'}>,\n",
       "        <AxesSubplot:title={'center':'F8'}>],\n",
       "       [<AxesSubplot:title={'center':'F9'}>,\n",
       "        <AxesSubplot:title={'center':'F10'}>,\n",
       "        <AxesSubplot:title={'center':'F11'}>,\n",
       "        <AxesSubplot:title={'center':'F12'}>],\n",
       "       [<AxesSubplot:title={'center':'F13'}>,\n",
       "        <AxesSubplot:title={'center':'F14'}>,\n",
       "        <AxesSubplot:title={'center':'F15'}>, <AxesSubplot:>]],\n",
       "      dtype=object)"
      ]
     },
     "execution_count": 6,
     "metadata": {},
     "output_type": "execute_result"
    },
    {
     "data": {
      "image/png": "[encoded data removed]",
      "text/plain": [
       "<Figure size 720x720 with 16 Axes>"
      ]
     },
     "metadata": {
      "needs_background": "light"
     },
     "output_type": "display_data"
    }
   ],
   "source": [
    "X.hist(figsize=[10,10])"
   ]
  },
  {
   "cell_type": "code",
   "execution_count": null,
   "metadata": {},
   "outputs": [],
   "source": []
  },
  {
   "cell_type": "markdown",
   "metadata": {},
   "source": [
    "4. Checking values in 15th Feature"
   ]
  },
  {
   "cell_type": "code",
   "execution_count": 7,
   "metadata": {},
   "outputs": [
    {
     "name": "stdout",
     "output_type": "stream",
     "text": [
      "5.16    8\n",
      "5.24    8\n",
      "6.12    7\n",
      "5.94    7\n",
      "5.75    6\n",
      "       ..\n",
      "4.19    1\n",
      "4.83    1\n",
      "5.68    1\n",
      "4.39    1\n",
      "6.47    1\n",
      "Name: F15, Length: 331, dtype: int64\n"
     ]
    }
   ],
   "source": [
    "print(X['F15'].value_counts())\n",
    "#X['F15'].mode()"
   ]
  },
  {
   "cell_type": "code",
   "execution_count": 8,
   "metadata": {},
   "outputs": [
    {
     "data": {
      "image/png": "[encoded data removed]",
      "text/plain": [
       "<Figure size 432x288 with 1 Axes>"
      ]
     },
     "metadata": {
      "needs_background": "light"
     },
     "output_type": "display_data"
    }
   ],
   "source": [
    "plt.hist(X.F15.values)\n",
    "plt.show()"
   ]
  },
  {
   "cell_type": "markdown",
   "metadata": {},
   "source": [
    "Filled F15 Feature with mean"
   ]
  },
  {
   "cell_type": "code",
   "execution_count": 9,
   "metadata": {},
   "outputs": [],
   "source": [
    "#X['F15'].fillna(X['F15'].mode()[0], inplace=True)\n",
    "#X['F15'].fillna(X['F15'].mean())\n",
    "X=X.fillna(X.mean())"
   ]
  },
  {
   "cell_type": "code",
   "execution_count": null,
   "metadata": {},
   "outputs": [],
   "source": []
  },
  {
   "cell_type": "code",
   "execution_count": null,
   "metadata": {},
   "outputs": [],
   "source": []
  },
  {
   "cell_type": "code",
   "execution_count": 10,
   "metadata": {},
   "outputs": [],
   "source": [
    "#X.describe()"
   ]
  },
  {
   "cell_type": "markdown",
   "metadata": {},
   "source": [
    "### Find outliers"
   ]
  },
  {
   "cell_type": "markdown",
   "metadata": {},
   "source": [
    "1. Finding Percentile (25% and 75%)"
   ]
  },
  {
   "cell_type": "code",
   "execution_count": 11,
   "metadata": {},
   "outputs": [
    {
     "data": {
      "text/html": [
       "<div>\n",
       "<style scoped>\n",
       "    .dataframe tbody tr th:only-of-type {\n",
       "        vertical-align: middle;\n",
       "    }\n",
       "\n",
       "    .dataframe tbody tr th {\n",
       "        vertical-align: top;\n",
       "    }\n",
       "\n",
       "    .dataframe thead th {\n",
       "        text-align: right;\n",
       "    }\n",
       "</style>\n",
       "<table border=\"1\" class=\"dataframe\">\n",
       "  <thead>\n",
       "    <tr style=\"text-align: right;\">\n",
       "      <th></th>\n",
       "      <th>F1</th>\n",
       "      <th>F2</th>\n",
       "      <th>F3</th>\n",
       "      <th>F4</th>\n",
       "      <th>F5</th>\n",
       "      <th>F6</th>\n",
       "      <th>F7</th>\n",
       "      <th>F8</th>\n",
       "      <th>F9</th>\n",
       "      <th>F10</th>\n",
       "      <th>F11</th>\n",
       "      <th>F12</th>\n",
       "      <th>F13</th>\n",
       "      <th>F14</th>\n",
       "      <th>F15</th>\n",
       "    </tr>\n",
       "  </thead>\n",
       "  <tbody>\n",
       "    <tr>\n",
       "      <th>0.25</th>\n",
       "      <td>-10.2600</td>\n",
       "      <td>-26.13</td>\n",
       "      <td>15.0</td>\n",
       "      <td>11.44</td>\n",
       "      <td>-8.13</td>\n",
       "      <td>3.72</td>\n",
       "      <td>10.14</td>\n",
       "      <td>-56.98</td>\n",
       "      <td>-678.72</td>\n",
       "      <td>2.0</td>\n",
       "      <td>-1.95</td>\n",
       "      <td>71.66</td>\n",
       "      <td>0.60</td>\n",
       "      <td>-2.2300</td>\n",
       "      <td>5.783013</td>\n",
       "    </tr>\n",
       "    <tr>\n",
       "      <th>0.75</th>\n",
       "      <td>2.9175</td>\n",
       "      <td>-13.11</td>\n",
       "      <td>195.0</td>\n",
       "      <td>13.90</td>\n",
       "      <td>-3.77</td>\n",
       "      <td>24.60</td>\n",
       "      <td>15.87</td>\n",
       "      <td>-30.98</td>\n",
       "      <td>-446.72</td>\n",
       "      <td>20.0</td>\n",
       "      <td>11.10</td>\n",
       "      <td>139.66</td>\n",
       "      <td>7.05</td>\n",
       "      <td>1.9825</td>\n",
       "      <td>5.790000</td>\n",
       "    </tr>\n",
       "  </tbody>\n",
       "</table>\n",
       "</div>"
      ],
      "text/plain": [
       "           F1     F2     F3     F4    F5     F6     F7     F8      F9   F10  \\\n",
       "0.25 -10.2600 -26.13   15.0  11.44 -8.13   3.72  10.14 -56.98 -678.72   2.0   \n",
       "0.75   2.9175 -13.11  195.0  13.90 -3.77  24.60  15.87 -30.98 -446.72  20.0   \n",
       "\n",
       "        F11     F12   F13     F14       F15  \n",
       "0.25  -1.95   71.66  0.60 -2.2300  5.783013  \n",
       "0.75  11.10  139.66  7.05  1.9825  5.790000  "
      ]
     },
     "execution_count": 11,
     "metadata": {},
     "output_type": "execute_result"
    }
   ],
   "source": [
    "q1 = X.quantile(0.25)\n",
    "q3 = X.quantile(0.75)\n",
    "percentile =pd.DataFrame([q1,q3])\n",
    "percentile"
   ]
  },
  {
   "cell_type": "markdown",
   "metadata": {},
   "source": [
    "2. Finding interquartile range"
   ]
  },
  {
   "cell_type": "code",
   "execution_count": 12,
   "metadata": {},
   "outputs": [
    {
     "data": {
      "text/html": [
       "<div>\n",
       "<style scoped>\n",
       "    .dataframe tbody tr th:only-of-type {\n",
       "        vertical-align: middle;\n",
       "    }\n",
       "\n",
       "    .dataframe tbody tr th {\n",
       "        vertical-align: top;\n",
       "    }\n",
       "\n",
       "    .dataframe thead th {\n",
       "        text-align: right;\n",
       "    }\n",
       "</style>\n",
       "<table border=\"1\" class=\"dataframe\">\n",
       "  <thead>\n",
       "    <tr style=\"text-align: right;\">\n",
       "      <th></th>\n",
       "      <th>F1</th>\n",
       "      <th>F2</th>\n",
       "      <th>F3</th>\n",
       "      <th>F4</th>\n",
       "      <th>F5</th>\n",
       "      <th>F6</th>\n",
       "      <th>F7</th>\n",
       "      <th>F8</th>\n",
       "      <th>F9</th>\n",
       "      <th>F10</th>\n",
       "      <th>F11</th>\n",
       "      <th>F12</th>\n",
       "      <th>F13</th>\n",
       "      <th>F14</th>\n",
       "      <th>F15</th>\n",
       "    </tr>\n",
       "  </thead>\n",
       "  <tbody>\n",
       "    <tr>\n",
       "      <th>0</th>\n",
       "      <td>13.1775</td>\n",
       "      <td>13.02</td>\n",
       "      <td>180.0</td>\n",
       "      <td>2.46</td>\n",
       "      <td>4.36</td>\n",
       "      <td>20.88</td>\n",
       "      <td>5.73</td>\n",
       "      <td>26.0</td>\n",
       "      <td>232.0</td>\n",
       "      <td>18.0</td>\n",
       "      <td>13.05</td>\n",
       "      <td>68.0</td>\n",
       "      <td>6.45</td>\n",
       "      <td>4.2125</td>\n",
       "      <td>0.006987</td>\n",
       "    </tr>\n",
       "  </tbody>\n",
       "</table>\n",
       "</div>"
      ],
      "text/plain": [
       "        F1     F2     F3    F4    F5     F6    F7    F8     F9   F10    F11  \\\n",
       "0  13.1775  13.02  180.0  2.46  4.36  20.88  5.73  26.0  232.0  18.0  13.05   \n",
       "\n",
       "    F12   F13     F14       F15  \n",
       "0  68.0  6.45  4.2125  0.006987  "
      ]
     },
     "execution_count": 12,
     "metadata": {},
     "output_type": "execute_result"
    }
   ],
   "source": [
    "iqr = q3 - q1\n",
    "iqr_df=pd.DataFrame([iqr])\n",
    "iqr_df"
   ]
  },
  {
   "cell_type": "markdown",
   "metadata": {},
   "source": [
    "3. Finding the lower limit and upper limit"
   ]
  },
  {
   "cell_type": "code",
   "execution_count": 13,
   "metadata": {},
   "outputs": [],
   "source": [
    "lower_lim = q1 - 1.5 * iqr\n",
    "upper_lim = q3 + 1.5 * iqr"
   ]
  },
  {
   "cell_type": "markdown",
   "metadata": {},
   "source": [
    "4. Found the lower value and upper value for outlier for each column"
   ]
  },
  {
   "cell_type": "code",
   "execution_count": 14,
   "metadata": {},
   "outputs": [
    {
     "data": {
      "text/html": [
       "<div>\n",
       "<style scoped>\n",
       "    .dataframe tbody tr th:only-of-type {\n",
       "        vertical-align: middle;\n",
       "    }\n",
       "\n",
       "    .dataframe tbody tr th {\n",
       "        vertical-align: top;\n",
       "    }\n",
       "\n",
       "    .dataframe thead th {\n",
       "        text-align: right;\n",
       "    }\n",
       "</style>\n",
       "<table border=\"1\" class=\"dataframe\">\n",
       "  <thead>\n",
       "    <tr style=\"text-align: right;\">\n",
       "      <th></th>\n",
       "      <th>F1</th>\n",
       "      <th>F2</th>\n",
       "      <th>F3</th>\n",
       "      <th>F4</th>\n",
       "      <th>F5</th>\n",
       "      <th>F6</th>\n",
       "      <th>F7</th>\n",
       "      <th>F8</th>\n",
       "      <th>F9</th>\n",
       "      <th>F10</th>\n",
       "      <th>F11</th>\n",
       "      <th>F12</th>\n",
       "      <th>F13</th>\n",
       "      <th>F14</th>\n",
       "      <th>F15</th>\n",
       "    </tr>\n",
       "  </thead>\n",
       "  <tbody>\n",
       "    <tr>\n",
       "      <th>lower limit</th>\n",
       "      <td>-30.02625</td>\n",
       "      <td>-45.66</td>\n",
       "      <td>-255.0</td>\n",
       "      <td>7.75</td>\n",
       "      <td>-14.67</td>\n",
       "      <td>-27.60</td>\n",
       "      <td>1.545</td>\n",
       "      <td>-95.98</td>\n",
       "      <td>-1026.72</td>\n",
       "      <td>-25.0</td>\n",
       "      <td>-21.525</td>\n",
       "      <td>-30.34</td>\n",
       "      <td>-9.075</td>\n",
       "      <td>-8.54875</td>\n",
       "      <td>5.772533</td>\n",
       "    </tr>\n",
       "    <tr>\n",
       "      <th>upper limit</th>\n",
       "      <td>22.68375</td>\n",
       "      <td>6.42</td>\n",
       "      <td>465.0</td>\n",
       "      <td>17.59</td>\n",
       "      <td>2.77</td>\n",
       "      <td>55.92</td>\n",
       "      <td>24.465</td>\n",
       "      <td>8.02</td>\n",
       "      <td>-98.72</td>\n",
       "      <td>47.0</td>\n",
       "      <td>30.675</td>\n",
       "      <td>241.66</td>\n",
       "      <td>16.725</td>\n",
       "      <td>8.30125</td>\n",
       "      <td>5.800480</td>\n",
       "    </tr>\n",
       "  </tbody>\n",
       "</table>\n",
       "</div>"
      ],
      "text/plain": [
       "                   F1     F2     F3     F4     F5     F6      F7     F8  \\\n",
       "lower limit -30.02625 -45.66 -255.0   7.75 -14.67 -27.60   1.545 -95.98   \n",
       "upper limit  22.68375   6.42  465.0  17.59   2.77  55.92  24.465   8.02   \n",
       "\n",
       "                  F9   F10     F11     F12     F13      F14       F15  \n",
       "lower limit -1026.72 -25.0 -21.525  -30.34  -9.075 -8.54875  5.772533  \n",
       "upper limit   -98.72  47.0  30.675  241.66  16.725  8.30125  5.800480  "
      ]
     },
     "execution_count": 14,
     "metadata": {},
     "output_type": "execute_result"
    }
   ],
   "source": [
    "lower=pd.DataFrame(lower_lim)\n",
    "upper=pd.DataFrame(upper_lim)\n",
    "lower_up = lower.rename(columns = {0:'lower limit'})\n",
    "upper_up = upper.rename(columns = {0:'upper limit'})\n",
    "lower_limit_df=lower_up.T\n",
    "upper_limit_df=upper_up.T\n",
    "#df_mix_max_limit=lower.append(upper)\n",
    "df_up=pd.concat([lower_limit_df, upper_limit_df])\n",
    "df_up"
   ]
  },
  {
   "cell_type": "markdown",
   "metadata": {},
   "source": [
    "### Removing the outlier values "
   ]
  },
  {
   "cell_type": "code",
   "execution_count": 15,
   "metadata": {},
   "outputs": [
    {
     "data": {
      "text/html": [
       "<div>\n",
       "<style scoped>\n",
       "    .dataframe tbody tr th:only-of-type {\n",
       "        vertical-align: middle;\n",
       "    }\n",
       "\n",
       "    .dataframe tbody tr th {\n",
       "        vertical-align: top;\n",
       "    }\n",
       "\n",
       "    .dataframe thead th {\n",
       "        text-align: right;\n",
       "    }\n",
       "</style>\n",
       "<table border=\"1\" class=\"dataframe\">\n",
       "  <thead>\n",
       "    <tr style=\"text-align: right;\">\n",
       "      <th></th>\n",
       "      <th>F1</th>\n",
       "      <th>F2</th>\n",
       "      <th>F3</th>\n",
       "      <th>F4</th>\n",
       "      <th>F5</th>\n",
       "      <th>F6</th>\n",
       "      <th>F7</th>\n",
       "      <th>F8</th>\n",
       "      <th>F9</th>\n",
       "      <th>F10</th>\n",
       "      <th>F11</th>\n",
       "      <th>F12</th>\n",
       "      <th>F13</th>\n",
       "      <th>F14</th>\n",
       "      <th>F15</th>\n",
       "    </tr>\n",
       "  </thead>\n",
       "  <tbody>\n",
       "    <tr>\n",
       "      <th>0</th>\n",
       "      <td>4.92</td>\n",
       "      <td>-13.23</td>\n",
       "      <td>330</td>\n",
       "      <td>13.22</td>\n",
       "      <td>-5.51</td>\n",
       "      <td>41.10</td>\n",
       "      <td>16.72</td>\n",
       "      <td>-56.98</td>\n",
       "      <td>-748.72</td>\n",
       "      <td>20</td>\n",
       "      <td>9.75</td>\n",
       "      <td>NaN</td>\n",
       "      <td>8.00</td>\n",
       "      <td>-0.35</td>\n",
       "      <td>NaN</td>\n",
       "    </tr>\n",
       "    <tr>\n",
       "      <th>1</th>\n",
       "      <td>-9.33</td>\n",
       "      <td>-27.72</td>\n",
       "      <td>3</td>\n",
       "      <td>12.78</td>\n",
       "      <td>-9.12</td>\n",
       "      <td>5.31</td>\n",
       "      <td>9.90</td>\n",
       "      <td>-30.98</td>\n",
       "      <td>-436.72</td>\n",
       "      <td>2</td>\n",
       "      <td>-1.56</td>\n",
       "      <td>131.66</td>\n",
       "      <td>0.76</td>\n",
       "      <td>1.79</td>\n",
       "      <td>5.783013</td>\n",
       "    </tr>\n",
       "    <tr>\n",
       "      <th>2</th>\n",
       "      <td>-15.09</td>\n",
       "      <td>-26.28</td>\n",
       "      <td>6</td>\n",
       "      <td>13.54</td>\n",
       "      <td>-7.75</td>\n",
       "      <td>5.67</td>\n",
       "      <td>9.93</td>\n",
       "      <td>-34.98</td>\n",
       "      <td>-482.72</td>\n",
       "      <td>2</td>\n",
       "      <td>-2.58</td>\n",
       "      <td>63.66</td>\n",
       "      <td>0.64</td>\n",
       "      <td>2.02</td>\n",
       "      <td>5.783013</td>\n",
       "    </tr>\n",
       "    <tr>\n",
       "      <th>3</th>\n",
       "      <td>-18.09</td>\n",
       "      <td>-24.60</td>\n",
       "      <td>30</td>\n",
       "      <td>13.28</td>\n",
       "      <td>-8.61</td>\n",
       "      <td>3.51</td>\n",
       "      <td>10.02</td>\n",
       "      <td>-30.98</td>\n",
       "      <td>-414.72</td>\n",
       "      <td>2</td>\n",
       "      <td>-7.08</td>\n",
       "      <td>133.66</td>\n",
       "      <td>0.57</td>\n",
       "      <td>1.98</td>\n",
       "      <td>5.783013</td>\n",
       "    </tr>\n",
       "    <tr>\n",
       "      <th>4</th>\n",
       "      <td>6.12</td>\n",
       "      <td>-8.64</td>\n",
       "      <td>300</td>\n",
       "      <td>14.94</td>\n",
       "      <td>-1.97</td>\n",
       "      <td>29.40</td>\n",
       "      <td>19.32</td>\n",
       "      <td>-36.98</td>\n",
       "      <td>-428.72</td>\n",
       "      <td>20</td>\n",
       "      <td>9.09</td>\n",
       "      <td>229.66</td>\n",
       "      <td>6.70</td>\n",
       "      <td>-3.83</td>\n",
       "      <td>5.783013</td>\n",
       "    </tr>\n",
       "    <tr>\n",
       "      <th>...</th>\n",
       "      <td>...</td>\n",
       "      <td>...</td>\n",
       "      <td>...</td>\n",
       "      <td>...</td>\n",
       "      <td>...</td>\n",
       "      <td>...</td>\n",
       "      <td>...</td>\n",
       "      <td>...</td>\n",
       "      <td>...</td>\n",
       "      <td>...</td>\n",
       "      <td>...</td>\n",
       "      <td>...</td>\n",
       "      <td>...</td>\n",
       "      <td>...</td>\n",
       "      <td>...</td>\n",
       "    </tr>\n",
       "    <tr>\n",
       "      <th>1495</th>\n",
       "      <td>-1.35</td>\n",
       "      <td>-20.76</td>\n",
       "      <td>40</td>\n",
       "      <td>11.58</td>\n",
       "      <td>-8.75</td>\n",
       "      <td>41.85</td>\n",
       "      <td>14.52</td>\n",
       "      <td>-56.98</td>\n",
       "      <td>-828.72</td>\n",
       "      <td>20</td>\n",
       "      <td>1.08</td>\n",
       "      <td>159.66</td>\n",
       "      <td>5.90</td>\n",
       "      <td>3.54</td>\n",
       "      <td>5.783013</td>\n",
       "    </tr>\n",
       "    <tr>\n",
       "      <th>1496</th>\n",
       "      <td>-12.90</td>\n",
       "      <td>-25.80</td>\n",
       "      <td>8</td>\n",
       "      <td>12.38</td>\n",
       "      <td>-9.51</td>\n",
       "      <td>0.51</td>\n",
       "      <td>9.97</td>\n",
       "      <td>-34.98</td>\n",
       "      <td>-424.72</td>\n",
       "      <td>2</td>\n",
       "      <td>-6.21</td>\n",
       "      <td>75.66</td>\n",
       "      <td>0.54</td>\n",
       "      <td>3.84</td>\n",
       "      <td>5.783013</td>\n",
       "    </tr>\n",
       "    <tr>\n",
       "      <th>1497</th>\n",
       "      <td>-3.78</td>\n",
       "      <td>-14.97</td>\n",
       "      <td>155</td>\n",
       "      <td>9.20</td>\n",
       "      <td>-4.18</td>\n",
       "      <td>40.05</td>\n",
       "      <td>15.17</td>\n",
       "      <td>-56.98</td>\n",
       "      <td>-748.72</td>\n",
       "      <td>20</td>\n",
       "      <td>6.96</td>\n",
       "      <td>NaN</td>\n",
       "      <td>6.15</td>\n",
       "      <td>-0.76</td>\n",
       "      <td>NaN</td>\n",
       "    </tr>\n",
       "    <tr>\n",
       "      <th>1498</th>\n",
       "      <td>1.38</td>\n",
       "      <td>-14.97</td>\n",
       "      <td>190</td>\n",
       "      <td>13.36</td>\n",
       "      <td>-6.31</td>\n",
       "      <td>33.15</td>\n",
       "      <td>14.47</td>\n",
       "      <td>-36.98</td>\n",
       "      <td>-628.72</td>\n",
       "      <td>20</td>\n",
       "      <td>10.20</td>\n",
       "      <td>NaN</td>\n",
       "      <td>8.30</td>\n",
       "      <td>-2.63</td>\n",
       "      <td>NaN</td>\n",
       "    </tr>\n",
       "    <tr>\n",
       "      <th>1499</th>\n",
       "      <td>8.16</td>\n",
       "      <td>-7.86</td>\n",
       "      <td>330</td>\n",
       "      <td>16.14</td>\n",
       "      <td>-3.18</td>\n",
       "      <td>18.00</td>\n",
       "      <td>19.12</td>\n",
       "      <td>-36.98</td>\n",
       "      <td>-478.72</td>\n",
       "      <td>20</td>\n",
       "      <td>14.10</td>\n",
       "      <td>219.66</td>\n",
       "      <td>7.00</td>\n",
       "      <td>-3.54</td>\n",
       "      <td>5.783013</td>\n",
       "    </tr>\n",
       "  </tbody>\n",
       "</table>\n",
       "<p>1500 rows × 15 columns</p>\n",
       "</div>"
      ],
      "text/plain": [
       "         F1     F2   F3     F4    F5     F6     F7     F8      F9  F10    F11  \\\n",
       "0      4.92 -13.23  330  13.22 -5.51  41.10  16.72 -56.98 -748.72   20   9.75   \n",
       "1     -9.33 -27.72    3  12.78 -9.12   5.31   9.90 -30.98 -436.72    2  -1.56   \n",
       "2    -15.09 -26.28    6  13.54 -7.75   5.67   9.93 -34.98 -482.72    2  -2.58   \n",
       "3    -18.09 -24.60   30  13.28 -8.61   3.51  10.02 -30.98 -414.72    2  -7.08   \n",
       "4      6.12  -8.64  300  14.94 -1.97  29.40  19.32 -36.98 -428.72   20   9.09   \n",
       "...     ...    ...  ...    ...   ...    ...    ...    ...     ...  ...    ...   \n",
       "1495  -1.35 -20.76   40  11.58 -8.75  41.85  14.52 -56.98 -828.72   20   1.08   \n",
       "1496 -12.90 -25.80    8  12.38 -9.51   0.51   9.97 -34.98 -424.72    2  -6.21   \n",
       "1497  -3.78 -14.97  155   9.20 -4.18  40.05  15.17 -56.98 -748.72   20   6.96   \n",
       "1498   1.38 -14.97  190  13.36 -6.31  33.15  14.47 -36.98 -628.72   20  10.20   \n",
       "1499   8.16  -7.86  330  16.14 -3.18  18.00  19.12 -36.98 -478.72   20  14.10   \n",
       "\n",
       "         F12   F13   F14       F15  \n",
       "0        NaN  8.00 -0.35       NaN  \n",
       "1     131.66  0.76  1.79  5.783013  \n",
       "2      63.66  0.64  2.02  5.783013  \n",
       "3     133.66  0.57  1.98  5.783013  \n",
       "4     229.66  6.70 -3.83  5.783013  \n",
       "...      ...   ...   ...       ...  \n",
       "1495  159.66  5.90  3.54  5.783013  \n",
       "1496   75.66  0.54  3.84  5.783013  \n",
       "1497     NaN  6.15 -0.76       NaN  \n",
       "1498     NaN  8.30 -2.63       NaN  \n",
       "1499  219.66  7.00 -3.54  5.783013  \n",
       "\n",
       "[1500 rows x 15 columns]"
      ]
     },
     "execution_count": 15,
     "metadata": {},
     "output_type": "execute_result"
    }
   ],
   "source": [
    "df_without_outlier = X[(X>lower_lim)&(X<upper_lim)]\n",
    "df_without_outlier"
   ]
  },
  {
   "cell_type": "markdown",
   "metadata": {},
   "source": [
    "The values now contains the Nan values after removing the outliers.\n"
   ]
  },
  {
   "cell_type": "code",
   "execution_count": 16,
   "metadata": {},
   "outputs": [
    {
     "data": {
      "text/plain": [
       "F1       0\n",
       "F2       0\n",
       "F3       0\n",
       "F4      50\n",
       "F5       3\n",
       "F6       0\n",
       "F7       0\n",
       "F8       0\n",
       "F9       0\n",
       "F10      0\n",
       "F11      0\n",
       "F12    196\n",
       "F13      0\n",
       "F14      0\n",
       "F15    738\n",
       "dtype: int64"
      ]
     },
     "execution_count": 16,
     "metadata": {},
     "output_type": "execute_result"
    }
   ],
   "source": [
    "df_without_outlier.isnull().sum()"
   ]
  },
  {
   "cell_type": "markdown",
   "metadata": {},
   "source": [
    "now we instead of removing these rows we can replace these value with mean of their column. "
   ]
  },
  {
   "cell_type": "code",
   "execution_count": 17,
   "metadata": {},
   "outputs": [
    {
     "data": {
      "text/html": [
       "<div>\n",
       "<style scoped>\n",
       "    .dataframe tbody tr th:only-of-type {\n",
       "        vertical-align: middle;\n",
       "    }\n",
       "\n",
       "    .dataframe tbody tr th {\n",
       "        vertical-align: top;\n",
       "    }\n",
       "\n",
       "    .dataframe thead th {\n",
       "        text-align: right;\n",
       "    }\n",
       "</style>\n",
       "<table border=\"1\" class=\"dataframe\">\n",
       "  <thead>\n",
       "    <tr style=\"text-align: right;\">\n",
       "      <th></th>\n",
       "      <th>F1</th>\n",
       "      <th>F2</th>\n",
       "      <th>F3</th>\n",
       "      <th>F4</th>\n",
       "      <th>F5</th>\n",
       "      <th>F6</th>\n",
       "      <th>F7</th>\n",
       "      <th>F8</th>\n",
       "      <th>F9</th>\n",
       "      <th>F10</th>\n",
       "      <th>F11</th>\n",
       "      <th>F12</th>\n",
       "      <th>F13</th>\n",
       "      <th>F14</th>\n",
       "      <th>F15</th>\n",
       "    </tr>\n",
       "  </thead>\n",
       "  <tbody>\n",
       "    <tr>\n",
       "      <th>0</th>\n",
       "      <td>4.92</td>\n",
       "      <td>-13.23</td>\n",
       "      <td>330</td>\n",
       "      <td>13.22</td>\n",
       "      <td>-5.51</td>\n",
       "      <td>41.10</td>\n",
       "      <td>16.72</td>\n",
       "      <td>-56.98</td>\n",
       "      <td>-748.72</td>\n",
       "      <td>20</td>\n",
       "      <td>9.75</td>\n",
       "      <td>105.727485</td>\n",
       "      <td>8.00</td>\n",
       "      <td>-0.35</td>\n",
       "      <td>5.783110</td>\n",
       "    </tr>\n",
       "    <tr>\n",
       "      <th>1</th>\n",
       "      <td>-9.33</td>\n",
       "      <td>-27.72</td>\n",
       "      <td>3</td>\n",
       "      <td>12.78</td>\n",
       "      <td>-9.12</td>\n",
       "      <td>5.31</td>\n",
       "      <td>9.90</td>\n",
       "      <td>-30.98</td>\n",
       "      <td>-436.72</td>\n",
       "      <td>2</td>\n",
       "      <td>-1.56</td>\n",
       "      <td>131.660000</td>\n",
       "      <td>0.76</td>\n",
       "      <td>1.79</td>\n",
       "      <td>5.783013</td>\n",
       "    </tr>\n",
       "    <tr>\n",
       "      <th>2</th>\n",
       "      <td>-15.09</td>\n",
       "      <td>-26.28</td>\n",
       "      <td>6</td>\n",
       "      <td>13.54</td>\n",
       "      <td>-7.75</td>\n",
       "      <td>5.67</td>\n",
       "      <td>9.93</td>\n",
       "      <td>-34.98</td>\n",
       "      <td>-482.72</td>\n",
       "      <td>2</td>\n",
       "      <td>-2.58</td>\n",
       "      <td>63.660000</td>\n",
       "      <td>0.64</td>\n",
       "      <td>2.02</td>\n",
       "      <td>5.783013</td>\n",
       "    </tr>\n",
       "    <tr>\n",
       "      <th>3</th>\n",
       "      <td>-18.09</td>\n",
       "      <td>-24.60</td>\n",
       "      <td>30</td>\n",
       "      <td>13.28</td>\n",
       "      <td>-8.61</td>\n",
       "      <td>3.51</td>\n",
       "      <td>10.02</td>\n",
       "      <td>-30.98</td>\n",
       "      <td>-414.72</td>\n",
       "      <td>2</td>\n",
       "      <td>-7.08</td>\n",
       "      <td>133.660000</td>\n",
       "      <td>0.57</td>\n",
       "      <td>1.98</td>\n",
       "      <td>5.783013</td>\n",
       "    </tr>\n",
       "    <tr>\n",
       "      <th>4</th>\n",
       "      <td>6.12</td>\n",
       "      <td>-8.64</td>\n",
       "      <td>300</td>\n",
       "      <td>14.94</td>\n",
       "      <td>-1.97</td>\n",
       "      <td>29.40</td>\n",
       "      <td>19.32</td>\n",
       "      <td>-36.98</td>\n",
       "      <td>-428.72</td>\n",
       "      <td>20</td>\n",
       "      <td>9.09</td>\n",
       "      <td>229.660000</td>\n",
       "      <td>6.70</td>\n",
       "      <td>-3.83</td>\n",
       "      <td>5.783013</td>\n",
       "    </tr>\n",
       "    <tr>\n",
       "      <th>...</th>\n",
       "      <td>...</td>\n",
       "      <td>...</td>\n",
       "      <td>...</td>\n",
       "      <td>...</td>\n",
       "      <td>...</td>\n",
       "      <td>...</td>\n",
       "      <td>...</td>\n",
       "      <td>...</td>\n",
       "      <td>...</td>\n",
       "      <td>...</td>\n",
       "      <td>...</td>\n",
       "      <td>...</td>\n",
       "      <td>...</td>\n",
       "      <td>...</td>\n",
       "      <td>...</td>\n",
       "    </tr>\n",
       "    <tr>\n",
       "      <th>1495</th>\n",
       "      <td>-1.35</td>\n",
       "      <td>-20.76</td>\n",
       "      <td>40</td>\n",
       "      <td>11.58</td>\n",
       "      <td>-8.75</td>\n",
       "      <td>41.85</td>\n",
       "      <td>14.52</td>\n",
       "      <td>-56.98</td>\n",
       "      <td>-828.72</td>\n",
       "      <td>20</td>\n",
       "      <td>1.08</td>\n",
       "      <td>159.660000</td>\n",
       "      <td>5.90</td>\n",
       "      <td>3.54</td>\n",
       "      <td>5.783013</td>\n",
       "    </tr>\n",
       "    <tr>\n",
       "      <th>1496</th>\n",
       "      <td>-12.90</td>\n",
       "      <td>-25.80</td>\n",
       "      <td>8</td>\n",
       "      <td>12.38</td>\n",
       "      <td>-9.51</td>\n",
       "      <td>0.51</td>\n",
       "      <td>9.97</td>\n",
       "      <td>-34.98</td>\n",
       "      <td>-424.72</td>\n",
       "      <td>2</td>\n",
       "      <td>-6.21</td>\n",
       "      <td>75.660000</td>\n",
       "      <td>0.54</td>\n",
       "      <td>3.84</td>\n",
       "      <td>5.783013</td>\n",
       "    </tr>\n",
       "    <tr>\n",
       "      <th>1497</th>\n",
       "      <td>-3.78</td>\n",
       "      <td>-14.97</td>\n",
       "      <td>155</td>\n",
       "      <td>9.20</td>\n",
       "      <td>-4.18</td>\n",
       "      <td>40.05</td>\n",
       "      <td>15.17</td>\n",
       "      <td>-56.98</td>\n",
       "      <td>-748.72</td>\n",
       "      <td>20</td>\n",
       "      <td>6.96</td>\n",
       "      <td>105.727485</td>\n",
       "      <td>6.15</td>\n",
       "      <td>-0.76</td>\n",
       "      <td>5.783110</td>\n",
       "    </tr>\n",
       "    <tr>\n",
       "      <th>1498</th>\n",
       "      <td>1.38</td>\n",
       "      <td>-14.97</td>\n",
       "      <td>190</td>\n",
       "      <td>13.36</td>\n",
       "      <td>-6.31</td>\n",
       "      <td>33.15</td>\n",
       "      <td>14.47</td>\n",
       "      <td>-36.98</td>\n",
       "      <td>-628.72</td>\n",
       "      <td>20</td>\n",
       "      <td>10.20</td>\n",
       "      <td>105.727485</td>\n",
       "      <td>8.30</td>\n",
       "      <td>-2.63</td>\n",
       "      <td>5.783110</td>\n",
       "    </tr>\n",
       "    <tr>\n",
       "      <th>1499</th>\n",
       "      <td>8.16</td>\n",
       "      <td>-7.86</td>\n",
       "      <td>330</td>\n",
       "      <td>16.14</td>\n",
       "      <td>-3.18</td>\n",
       "      <td>18.00</td>\n",
       "      <td>19.12</td>\n",
       "      <td>-36.98</td>\n",
       "      <td>-478.72</td>\n",
       "      <td>20</td>\n",
       "      <td>14.10</td>\n",
       "      <td>219.660000</td>\n",
       "      <td>7.00</td>\n",
       "      <td>-3.54</td>\n",
       "      <td>5.783013</td>\n",
       "    </tr>\n",
       "  </tbody>\n",
       "</table>\n",
       "<p>1500 rows × 15 columns</p>\n",
       "</div>"
      ],
      "text/plain": [
       "         F1     F2   F3     F4    F5     F6     F7     F8      F9  F10    F11  \\\n",
       "0      4.92 -13.23  330  13.22 -5.51  41.10  16.72 -56.98 -748.72   20   9.75   \n",
       "1     -9.33 -27.72    3  12.78 -9.12   5.31   9.90 -30.98 -436.72    2  -1.56   \n",
       "2    -15.09 -26.28    6  13.54 -7.75   5.67   9.93 -34.98 -482.72    2  -2.58   \n",
       "3    -18.09 -24.60   30  13.28 -8.61   3.51  10.02 -30.98 -414.72    2  -7.08   \n",
       "4      6.12  -8.64  300  14.94 -1.97  29.40  19.32 -36.98 -428.72   20   9.09   \n",
       "...     ...    ...  ...    ...   ...    ...    ...    ...     ...  ...    ...   \n",
       "1495  -1.35 -20.76   40  11.58 -8.75  41.85  14.52 -56.98 -828.72   20   1.08   \n",
       "1496 -12.90 -25.80    8  12.38 -9.51   0.51   9.97 -34.98 -424.72    2  -6.21   \n",
       "1497  -3.78 -14.97  155   9.20 -4.18  40.05  15.17 -56.98 -748.72   20   6.96   \n",
       "1498   1.38 -14.97  190  13.36 -6.31  33.15  14.47 -36.98 -628.72   20  10.20   \n",
       "1499   8.16  -7.86  330  16.14 -3.18  18.00  19.12 -36.98 -478.72   20  14.10   \n",
       "\n",
       "             F12   F13   F14       F15  \n",
       "0     105.727485  8.00 -0.35  5.783110  \n",
       "1     131.660000  0.76  1.79  5.783013  \n",
       "2      63.660000  0.64  2.02  5.783013  \n",
       "3     133.660000  0.57  1.98  5.783013  \n",
       "4     229.660000  6.70 -3.83  5.783013  \n",
       "...          ...   ...   ...       ...  \n",
       "1495  159.660000  5.90  3.54  5.783013  \n",
       "1496   75.660000  0.54  3.84  5.783013  \n",
       "1497  105.727485  6.15 -0.76  5.783110  \n",
       "1498  105.727485  8.30 -2.63  5.783110  \n",
       "1499  219.660000  7.00 -3.54  5.783013  \n",
       "\n",
       "[1500 rows x 15 columns]"
      ]
     },
     "execution_count": 17,
     "metadata": {},
     "output_type": "execute_result"
    }
   ],
   "source": [
    "\n",
    "#cols=['F1', 'F2', 'F3', 'F4', 'F5', 'F6', 'F7', 'F8', 'F9', 'F10', 'F11',\n",
    "       #'F12', 'F13', 'F14', 'F15']\n",
    "#mode = df_without_outlier.filter(cols).mode()\n",
    "\n",
    "#df_final=df_without_outlier[cols]=df_without_outlier[cols].fillna(mode.iloc[0])\n",
    "\n",
    "df_final=df_without_outlier.fillna(df_without_outlier.mean())\n",
    "df_final"
   ]
  },
  {
   "cell_type": "markdown",
   "metadata": {},
   "source": [
    "### Feature scaling "
   ]
  },
  {
   "cell_type": "code",
   "execution_count": 18,
   "metadata": {},
   "outputs": [
    {
     "data": {
      "text/html": [
       "<div>\n",
       "<style scoped>\n",
       "    .dataframe tbody tr th:only-of-type {\n",
       "        vertical-align: middle;\n",
       "    }\n",
       "\n",
       "    .dataframe tbody tr th {\n",
       "        vertical-align: top;\n",
       "    }\n",
       "\n",
       "    .dataframe thead th {\n",
       "        text-align: right;\n",
       "    }\n",
       "</style>\n",
       "<table border=\"1\" class=\"dataframe\">\n",
       "  <thead>\n",
       "    <tr style=\"text-align: right;\">\n",
       "      <th></th>\n",
       "      <th>0</th>\n",
       "      <th>1</th>\n",
       "      <th>2</th>\n",
       "      <th>3</th>\n",
       "      <th>4</th>\n",
       "      <th>5</th>\n",
       "      <th>6</th>\n",
       "      <th>7</th>\n",
       "      <th>8</th>\n",
       "      <th>9</th>\n",
       "      <th>10</th>\n",
       "      <th>11</th>\n",
       "      <th>12</th>\n",
       "      <th>13</th>\n",
       "      <th>14</th>\n",
       "    </tr>\n",
       "  </thead>\n",
       "  <tbody>\n",
       "    <tr>\n",
       "      <th>0</th>\n",
       "      <td>0.898213</td>\n",
       "      <td>0.833720</td>\n",
       "      <td>0.846154</td>\n",
       "      <td>0.393939</td>\n",
       "      <td>0.713660</td>\n",
       "      <td>0.872611</td>\n",
       "      <td>0.719212</td>\n",
       "      <td>0.384615</td>\n",
       "      <td>0.285714</td>\n",
       "      <td>1.0</td>\n",
       "      <td>0.792422</td>\n",
       "      <td>0.883721</td>\n",
       "      <td>0.772947</td>\n",
       "      <td>0.327614</td>\n",
       "      <td>0.334646</td>\n",
       "    </tr>\n",
       "    <tr>\n",
       "      <th>1</th>\n",
       "      <td>0.529138</td>\n",
       "      <td>0.460170</td>\n",
       "      <td>0.007692</td>\n",
       "      <td>0.360606</td>\n",
       "      <td>0.449963</td>\n",
       "      <td>0.112739</td>\n",
       "      <td>0.047291</td>\n",
       "      <td>0.884615</td>\n",
       "      <td>0.922449</td>\n",
       "      <td>0.1</td>\n",
       "      <td>0.481878</td>\n",
       "      <td>0.586047</td>\n",
       "      <td>0.073430</td>\n",
       "      <td>0.502451</td>\n",
       "      <td>0.536026</td>\n",
       "    </tr>\n",
       "    <tr>\n",
       "      <th>2</th>\n",
       "      <td>0.379953</td>\n",
       "      <td>0.497293</td>\n",
       "      <td>0.015385</td>\n",
       "      <td>0.418182</td>\n",
       "      <td>0.550037</td>\n",
       "      <td>0.120382</td>\n",
       "      <td>0.050246</td>\n",
       "      <td>0.807692</td>\n",
       "      <td>0.828571</td>\n",
       "      <td>0.1</td>\n",
       "      <td>0.453871</td>\n",
       "      <td>0.427907</td>\n",
       "      <td>0.061836</td>\n",
       "      <td>0.521242</td>\n",
       "      <td>0.536026</td>\n",
       "    </tr>\n",
       "    <tr>\n",
       "      <th>3</th>\n",
       "      <td>0.302253</td>\n",
       "      <td>0.540603</td>\n",
       "      <td>0.076923</td>\n",
       "      <td>0.398485</td>\n",
       "      <td>0.487217</td>\n",
       "      <td>0.074522</td>\n",
       "      <td>0.059113</td>\n",
       "      <td>0.884615</td>\n",
       "      <td>0.967347</td>\n",
       "      <td>0.1</td>\n",
       "      <td>0.330313</td>\n",
       "      <td>0.590698</td>\n",
       "      <td>0.055072</td>\n",
       "      <td>0.517974</td>\n",
       "      <td>0.536026</td>\n",
       "    </tr>\n",
       "    <tr>\n",
       "      <th>4</th>\n",
       "      <td>0.929293</td>\n",
       "      <td>0.952049</td>\n",
       "      <td>0.769231</td>\n",
       "      <td>0.524242</td>\n",
       "      <td>0.972243</td>\n",
       "      <td>0.624204</td>\n",
       "      <td>0.975369</td>\n",
       "      <td>0.769231</td>\n",
       "      <td>0.938776</td>\n",
       "      <td>1.0</td>\n",
       "      <td>0.774300</td>\n",
       "      <td>0.813953</td>\n",
       "      <td>0.647343</td>\n",
       "      <td>0.043301</td>\n",
       "      <td>0.536026</td>\n",
       "    </tr>\n",
       "  </tbody>\n",
       "</table>\n",
       "</div>"
      ],
      "text/plain": [
       "         0         1         2         3         4         5         6   \\\n",
       "0  0.898213  0.833720  0.846154  0.393939  0.713660  0.872611  0.719212   \n",
       "1  0.529138  0.460170  0.007692  0.360606  0.449963  0.112739  0.047291   \n",
       "2  0.379953  0.497293  0.015385  0.418182  0.550037  0.120382  0.050246   \n",
       "3  0.302253  0.540603  0.076923  0.398485  0.487217  0.074522  0.059113   \n",
       "4  0.929293  0.952049  0.769231  0.524242  0.972243  0.624204  0.975369   \n",
       "\n",
       "         7         8    9         10        11        12        13        14  \n",
       "0  0.384615  0.285714  1.0  0.792422  0.883721  0.772947  0.327614  0.334646  \n",
       "1  0.884615  0.922449  0.1  0.481878  0.586047  0.073430  0.502451  0.536026  \n",
       "2  0.807692  0.828571  0.1  0.453871  0.427907  0.061836  0.521242  0.536026  \n",
       "3  0.884615  0.967347  0.1  0.330313  0.590698  0.055072  0.517974  0.536026  \n",
       "4  0.769231  0.938776  1.0  0.774300  0.813953  0.647343  0.043301  0.536026  "
      ]
     },
     "execution_count": 18,
     "metadata": {},
     "output_type": "execute_result"
    }
   ],
   "source": [
    "import pandas as pd\n",
    "from sklearn import preprocessing\n",
    "\n",
    "x1 = X.values\n",
    "min_max_scaler = preprocessing.MinMaxScaler()\n",
    "x_scaled = min_max_scaler.fit_transform(x1)\n",
    "df_scaled = pd.DataFrame(x_scaled)\n",
    "df_scaled.head()"
   ]
  },
  {
   "cell_type": "markdown",
   "metadata": {},
   "source": [
    "### Splitting"
   ]
  },
  {
   "cell_type": "code",
   "execution_count": 19,
   "metadata": {},
   "outputs": [],
   "source": [
    "X_train, X_test, y_train, y_test = train_test_split(df_scaled.values, y, train_size=0.8,random_state=42)"
   ]
  },
  {
   "cell_type": "markdown",
   "metadata": {},
   "source": [
    "### Decision tree before optimization"
   ]
  },
  {
   "cell_type": "code",
   "execution_count": 20,
   "metadata": {},
   "outputs": [
    {
     "name": "stdout",
     "output_type": "stream",
     "text": [
      "Test score:  0.8\n",
      "Train score:  1.0\n"
     ]
    }
   ],
   "source": [
    "dti = DecisionTreeClassifier()\n",
    "dti = dti.fit(X_train,y_train)\n",
    "dti_pred=dti.predict(X_test)\n",
    "score=accuracy_score(y_test,dti_pred)\n",
    "print(\"Test score: \",score)\n",
    "\n",
    "dti_pred_tr=dti.predict(X_train)\n",
    "score_train=accuracy_score(y_train,dti_pred_tr)\n",
    "print(\"Train score: \",score_train)\n"
   ]
  },
  {
   "cell_type": "markdown",
   "metadata": {},
   "source": [
    "### Hyperparameter tuning of decision tree"
   ]
  },
  {
   "cell_type": "markdown",
   "metadata": {},
   "source": [
    "1. Defining parameters"
   ]
  },
  {
   "cell_type": "code",
   "execution_count": 21,
   "metadata": {},
   "outputs": [],
   "source": [
    "parameters = {'max_depth' : (3,5,7,9,10,15,20)\n",
    "              , 'criterion' : ('gini', 'entropy')\n",
    "              , 'max_features' : ('auto', 'sqrt', 'log2')\n",
    "              , 'min_samples_split' : (2,4,6,8,10)\n",
    "              , 'min_samples_leaf': (1,2,3,4,5)\n",
    "             }"
   ]
  },
  {
   "cell_type": "markdown",
   "metadata": {},
   "source": [
    "2. Finding best parameters"
   ]
  },
  {
   "cell_type": "code",
   "execution_count": 22,
   "metadata": {},
   "outputs": [
    {
     "name": "stdout",
     "output_type": "stream",
     "text": [
      "Fitting 8 folds for each of 1050 candidates, totalling 8400 fits\n"
     ]
    },
    {
     "name": "stderr",
     "output_type": "stream",
     "text": [
      "[Parallel(n_jobs=4)]: Using backend LokyBackend with 4 concurrent workers.\n",
      "[Parallel(n_jobs=4)]: Done   5 tasks      | elapsed:    5.1s\n",
      "[Parallel(n_jobs=4)]: Done  10 tasks      | elapsed:    5.1s\n",
      "[Parallel(n_jobs=4)]: Done  17 tasks      | elapsed:    5.2s\n",
      "[Parallel(n_jobs=4)]: Batch computation too fast (0.1800s.) Setting batch_size=2.\n",
      "[Parallel(n_jobs=4)]: Done  24 tasks      | elapsed:    5.2s\n",
      "[Parallel(n_jobs=4)]: Batch computation too fast (0.0310s.) Setting batch_size=4.\n",
      "[Parallel(n_jobs=4)]: Done  36 tasks      | elapsed:    5.3s\n",
      "[Parallel(n_jobs=4)]: Batch computation too fast (0.0700s.) Setting batch_size=8.\n",
      "[Parallel(n_jobs=4)]: Done  59 tasks      | elapsed:    5.4s\n",
      "[Parallel(n_jobs=4)]: Batch computation too fast (0.0899s.) Setting batch_size=16.\n",
      "[Parallel(n_jobs=4)]: Done 120 tasks      | elapsed:    5.5s\n",
      "[Parallel(n_jobs=4)]: Batch computation too fast (0.1569s.) Setting batch_size=32.\n",
      "[Parallel(n_jobs=4)]: Done 272 tasks      | elapsed:    5.9s\n",
      "[Parallel(n_jobs=4)]: Done 688 tasks      | elapsed:    7.1s\n",
      "[Parallel(n_jobs=4)]: Done 1104 tasks      | elapsed:    7.8s\n",
      "[Parallel(n_jobs=4)]: Done 1584 tasks      | elapsed:    9.5s\n",
      "[Parallel(n_jobs=4)]: Done 2064 tasks      | elapsed:   10.4s\n",
      "[Parallel(n_jobs=4)]: Done 2608 tasks      | elapsed:   11.2s\n",
      "[Parallel(n_jobs=4)]: Done 3152 tasks      | elapsed:   12.1s\n",
      "[Parallel(n_jobs=4)]: Done 3760 tasks      | elapsed:   13.2s\n",
      "[Parallel(n_jobs=4)]: Done 4368 tasks      | elapsed:   14.1s\n",
      "[Parallel(n_jobs=4)]: Done 5040 tasks      | elapsed:   15.0s\n",
      "[Parallel(n_jobs=4)]: Done 5712 tasks      | elapsed:   16.1s\n",
      "[Parallel(n_jobs=4)]: Done 6448 tasks      | elapsed:   17.7s\n",
      "[Parallel(n_jobs=4)]: Done 7184 tasks      | elapsed:   19.5s\n",
      "[Parallel(n_jobs=4)]: Done 7984 tasks      | elapsed:   22.0s\n",
      "[Parallel(n_jobs=4)]: Done 8288 tasks      | elapsed:   23.0s\n",
      "[Parallel(n_jobs=4)]: Done 8346 tasks      | elapsed:   23.1s\n",
      "[Parallel(n_jobs=4)]: Done 8400 out of 8400 | elapsed:   23.2s finished\n"
     ]
    },
    {
     "data": {
      "text/plain": [
       "DecisionTreeClassifier(criterion='entropy', max_depth=20, max_features='log2',\n",
       "                       min_samples_leaf=5, min_samples_split=8)"
      ]
     },
     "execution_count": 22,
     "metadata": {},
     "output_type": "execute_result"
    }
   ],
   "source": [
    "dti_em=DecisionTreeClassifier()\n",
    "dti_grid = GridSearchCV(estimator=dti_em , param_grid=parameters,  cv = 8 , verbose = 10,n_jobs=4)\n",
    "dti_grid.fit(X_train, y_train)\n",
    "dti1=dti_grid.best_estimator_\n",
    "dti1"
   ]
  },
  {
   "cell_type": "markdown",
   "metadata": {},
   "source": [
    "3. Training and preeiction after optimization"
   ]
  },
  {
   "cell_type": "code",
   "execution_count": 23,
   "metadata": {},
   "outputs": [
    {
     "name": "stdout",
     "output_type": "stream",
     "text": [
      "Testing accuracy after optimization:  72.66666666666667\n",
      "Training accuracy after optimization:  91.58333333333334 \n",
      "\n"
     ]
    }
   ],
   "source": [
    "dti1.fit(X_train, y_train)\n",
    "pred_dti_opt = dti1.predict(X_test)\n",
    "acc_dti= metrics.accuracy_score(y_test,pred_dti_opt)*100\n",
    "print('Testing accuracy after optimization: ',acc_dti)\n",
    "\n",
    "pred_dti_opt_ = dti1.predict(X_train)\n",
    "acc1_dt= metrics.accuracy_score(y_train,pred_dti_opt_)*100\n",
    "print('Training accuracy after optimization: ',acc1_dt,'\\n')\n",
    "\n",
    "#print('Confusion matrix:\\n',metrics.confusion_matrix(y_test, pred_dti_opt),'\\n')\n",
    "#print(\"Classification Report Support Vector : \\n\")\n",
    "#print(metrics.classification_report(y_test, pred_dti_opt))"
   ]
  },
  {
   "cell_type": "code",
   "execution_count": 24,
   "metadata": {},
   "outputs": [
    {
     "data": {
      "image/png": "[encoded data removed]",
      "text/plain": [
       "<Figure size 720x720 with 1 Axes>"
      ]
     },
     "metadata": {
      "needs_background": "light"
     },
     "output_type": "display_data"
    }
   ],
   "source": [
    "from sklearn import tree\n",
    "fig = plt.figure(figsize=(10,10))\n",
    "_ = tree.plot_tree(dti1, \n",
    "                   feature_names=df.columns,  \n",
    "                   class_names=[\"True\",\"False\"],\n",
    "                   filled=True)"
   ]
  },
  {
   "cell_type": "code",
   "execution_count": null,
   "metadata": {},
   "outputs": [],
   "source": []
  },
  {
   "cell_type": "code",
   "execution_count": 25,
   "metadata": {
    "scrolled": false
   },
   "outputs": [
    {
     "name": "stdout",
     "output_type": "stream",
     "text": [
      "|--- feature_14 <= 0.62\n",
      "|   |--- feature_14 <= 0.50\n",
      "|   |   |--- feature_1 <= 0.25\n",
      "|   |   |   |--- class: True\n",
      "|   |   |--- feature_1 >  0.25\n",
      "|   |   |   |--- feature_6 <= 0.82\n",
      "|   |   |   |   |--- feature_9 <= 0.75\n",
      "|   |   |   |   |   |--- feature_10 <= 0.55\n",
      "|   |   |   |   |   |   |--- feature_12 <= 0.10\n",
      "|   |   |   |   |   |   |   |--- feature_3 <= 0.22\n",
      "|   |   |   |   |   |   |   |   |--- class: True\n",
      "|   |   |   |   |   |   |   |--- feature_3 >  0.22\n",
      "|   |   |   |   |   |   |   |   |--- feature_10 <= 0.53\n",
      "|   |   |   |   |   |   |   |   |   |--- feature_0 <= 0.22\n",
      "|   |   |   |   |   |   |   |   |   |   |--- feature_10 <= 0.43\n",
      "|   |   |   |   |   |   |   |   |   |   |   |--- class: True\n",
      "|   |   |   |   |   |   |   |   |   |   |--- feature_10 >  0.43\n",
      "|   |   |   |   |   |   |   |   |   |   |   |--- class: False\n",
      "|   |   |   |   |   |   |   |   |   |--- feature_0 >  0.22\n",
      "|   |   |   |   |   |   |   |   |   |   |--- feature_6 <= 0.01\n",
      "|   |   |   |   |   |   |   |   |   |   |   |--- truncated branch of depth 2\n",
      "|   |   |   |   |   |   |   |   |   |   |--- feature_6 >  0.01\n",
      "|   |   |   |   |   |   |   |   |   |   |   |--- class: False\n",
      "|   |   |   |   |   |   |   |   |--- feature_10 >  0.53\n",
      "|   |   |   |   |   |   |   |   |   |--- feature_2 <= 0.03\n",
      "|   |   |   |   |   |   |   |   |   |   |--- class: True\n",
      "|   |   |   |   |   |   |   |   |   |--- feature_2 >  0.03\n",
      "|   |   |   |   |   |   |   |   |   |   |--- class: False\n",
      "|   |   |   |   |   |   |--- feature_12 >  0.10\n",
      "|   |   |   |   |   |   |   |--- feature_6 <= 0.03\n",
      "|   |   |   |   |   |   |   |   |--- class: False\n",
      "|   |   |   |   |   |   |   |--- feature_6 >  0.03\n",
      "|   |   |   |   |   |   |   |   |--- class: True\n",
      "|   |   |   |   |   |--- feature_10 >  0.55\n",
      "|   |   |   |   |   |   |--- class: True\n",
      "|   |   |   |   |--- feature_9 >  0.75\n",
      "|   |   |   |   |   |--- feature_0 <= 0.95\n",
      "|   |   |   |   |   |   |--- feature_4 <= 0.90\n",
      "|   |   |   |   |   |   |   |--- class: False\n",
      "|   |   |   |   |   |   |--- feature_4 >  0.90\n",
      "|   |   |   |   |   |   |   |--- feature_10 <= 0.82\n",
      "|   |   |   |   |   |   |   |   |--- class: True\n",
      "|   |   |   |   |   |   |   |--- feature_10 >  0.82\n",
      "|   |   |   |   |   |   |   |   |--- class: False\n",
      "|   |   |   |   |   |--- feature_0 >  0.95\n",
      "|   |   |   |   |   |   |--- feature_10 <= 0.92\n",
      "|   |   |   |   |   |   |   |--- class: True\n",
      "|   |   |   |   |   |   |--- feature_10 >  0.92\n",
      "|   |   |   |   |   |   |   |--- class: False\n",
      "|   |   |   |--- feature_6 >  0.82\n",
      "|   |   |   |   |--- feature_10 <= 0.92\n",
      "|   |   |   |   |   |--- class: True\n",
      "|   |   |   |   |--- feature_10 >  0.92\n",
      "|   |   |   |   |   |--- class: False\n",
      "|   |--- feature_14 >  0.50\n",
      "|   |   |--- feature_8 <= 0.94\n",
      "|   |   |   |--- feature_1 <= 0.88\n",
      "|   |   |   |   |--- feature_8 <= 0.83\n",
      "|   |   |   |   |   |--- feature_6 <= 0.77\n",
      "|   |   |   |   |   |   |--- feature_9 <= 0.75\n",
      "|   |   |   |   |   |   |   |--- feature_3 <= 0.38\n",
      "|   |   |   |   |   |   |   |   |--- feature_12 <= 0.06\n",
      "|   |   |   |   |   |   |   |   |   |--- feature_10 <= 0.42\n",
      "|   |   |   |   |   |   |   |   |   |   |--- feature_3 <= 0.26\n",
      "|   |   |   |   |   |   |   |   |   |   |   |--- class: True\n",
      "|   |   |   |   |   |   |   |   |   |   |--- feature_3 >  0.26\n",
      "|   |   |   |   |   |   |   |   |   |   |   |--- truncated branch of depth 2\n",
      "|   |   |   |   |   |   |   |   |   |--- feature_10 >  0.42\n",
      "|   |   |   |   |   |   |   |   |   |   |--- class: False\n",
      "|   |   |   |   |   |   |   |   |--- feature_12 >  0.06\n",
      "|   |   |   |   |   |   |   |   |   |--- feature_6 <= 0.06\n",
      "|   |   |   |   |   |   |   |   |   |   |--- feature_0 <= 0.43\n",
      "|   |   |   |   |   |   |   |   |   |   |   |--- class: True\n",
      "|   |   |   |   |   |   |   |   |   |   |--- feature_0 >  0.43\n",
      "|   |   |   |   |   |   |   |   |   |   |   |--- class: False\n",
      "|   |   |   |   |   |   |   |   |   |--- feature_6 >  0.06\n",
      "|   |   |   |   |   |   |   |   |   |   |--- class: True\n",
      "|   |   |   |   |   |   |   |--- feature_3 >  0.38\n",
      "|   |   |   |   |   |   |   |   |--- feature_11 <= 0.43\n",
      "|   |   |   |   |   |   |   |   |   |--- class: True\n",
      "|   |   |   |   |   |   |   |   |--- feature_11 >  0.43\n",
      "|   |   |   |   |   |   |   |   |   |--- feature_1 <= 0.57\n",
      "|   |   |   |   |   |   |   |   |   |   |--- class: False\n",
      "|   |   |   |   |   |   |   |   |   |--- feature_1 >  0.57\n",
      "|   |   |   |   |   |   |   |   |   |   |--- class: True\n",
      "|   |   |   |   |   |   |--- feature_9 >  0.75\n",
      "|   |   |   |   |   |   |   |--- feature_4 <= 0.89\n",
      "|   |   |   |   |   |   |   |   |--- feature_7 <= 0.87\n",
      "|   |   |   |   |   |   |   |   |   |--- feature_13 <= 0.09\n",
      "|   |   |   |   |   |   |   |   |   |   |--- feature_2 <= 0.54\n",
      "|   |   |   |   |   |   |   |   |   |   |   |--- truncated branch of depth 2\n",
      "|   |   |   |   |   |   |   |   |   |   |--- feature_2 >  0.54\n",
      "|   |   |   |   |   |   |   |   |   |   |   |--- class: False\n",
      "|   |   |   |   |   |   |   |   |   |--- feature_13 >  0.09\n",
      "|   |   |   |   |   |   |   |   |   |   |--- feature_14 <= 0.51\n",
      "|   |   |   |   |   |   |   |   |   |   |   |--- truncated branch of depth 2\n",
      "|   |   |   |   |   |   |   |   |   |   |--- feature_14 >  0.51\n",
      "|   |   |   |   |   |   |   |   |   |   |   |--- truncated branch of depth 5\n",
      "|   |   |   |   |   |   |   |   |--- feature_7 >  0.87\n",
      "|   |   |   |   |   |   |   |   |   |--- class: True\n",
      "|   |   |   |   |   |   |   |--- feature_4 >  0.89\n",
      "|   |   |   |   |   |   |   |   |--- feature_3 <= 0.25\n",
      "|   |   |   |   |   |   |   |   |   |--- class: True\n",
      "|   |   |   |   |   |   |   |   |--- feature_3 >  0.25\n",
      "|   |   |   |   |   |   |   |   |   |--- feature_6 <= 0.70\n",
      "|   |   |   |   |   |   |   |   |   |   |--- class: False\n",
      "|   |   |   |   |   |   |   |   |   |--- feature_6 >  0.70\n",
      "|   |   |   |   |   |   |   |   |   |   |--- feature_11 <= 0.76\n",
      "|   |   |   |   |   |   |   |   |   |   |   |--- class: True\n",
      "|   |   |   |   |   |   |   |   |   |   |--- feature_11 >  0.76\n",
      "|   |   |   |   |   |   |   |   |   |   |   |--- class: False\n",
      "|   |   |   |   |   |--- feature_6 >  0.77\n",
      "|   |   |   |   |   |   |--- feature_3 <= 0.53\n",
      "|   |   |   |   |   |   |   |--- feature_2 <= 0.96\n",
      "|   |   |   |   |   |   |   |   |--- feature_3 <= 0.10\n",
      "|   |   |   |   |   |   |   |   |   |--- feature_4 <= 0.89\n",
      "|   |   |   |   |   |   |   |   |   |   |--- class: False\n",
      "|   |   |   |   |   |   |   |   |   |--- feature_4 >  0.89\n",
      "|   |   |   |   |   |   |   |   |   |   |--- class: True\n",
      "|   |   |   |   |   |   |   |   |--- feature_3 >  0.10\n",
      "|   |   |   |   |   |   |   |   |   |--- class: True\n",
      "|   |   |   |   |   |   |   |--- feature_2 >  0.96\n",
      "|   |   |   |   |   |   |   |   |--- class: False\n",
      "|   |   |   |   |   |   |--- feature_3 >  0.53\n",
      "|   |   |   |   |   |   |   |--- class: False\n",
      "|   |   |   |   |--- feature_8 >  0.83\n",
      "|   |   |   |   |   |--- feature_6 <= 0.07\n",
      "|   |   |   |   |   |   |--- feature_12 <= 0.08\n",
      "|   |   |   |   |   |   |   |--- feature_3 <= 0.24\n",
      "|   |   |   |   |   |   |   |   |--- class: True\n",
      "|   |   |   |   |   |   |   |--- feature_3 >  0.24\n",
      "|   |   |   |   |   |   |   |   |--- feature_10 <= 0.53\n",
      "|   |   |   |   |   |   |   |   |   |--- feature_8 <= 0.83\n",
      "|   |   |   |   |   |   |   |   |   |   |--- class: True\n",
      "|   |   |   |   |   |   |   |   |   |--- feature_8 >  0.83\n",
      "|   |   |   |   |   |   |   |   |   |   |--- feature_9 <= 0.05\n",
      "|   |   |   |   |   |   |   |   |   |   |   |--- truncated branch of depth 2\n",
      "|   |   |   |   |   |   |   |   |   |   |--- feature_9 >  0.05\n",
      "|   |   |   |   |   |   |   |   |   |   |   |--- truncated branch of depth 4\n",
      "|   |   |   |   |   |   |   |   |--- feature_10 >  0.53\n",
      "|   |   |   |   |   |   |   |   |   |--- class: True\n",
      "|   |   |   |   |   |   |--- feature_12 >  0.08\n",
      "|   |   |   |   |   |   |   |--- feature_2 <= 0.02\n",
      "|   |   |   |   |   |   |   |   |--- feature_12 <= 0.10\n",
      "|   |   |   |   |   |   |   |   |   |--- class: True\n",
      "|   |   |   |   |   |   |   |   |--- feature_12 >  0.10\n",
      "|   |   |   |   |   |   |   |   |   |--- class: False\n",
      "|   |   |   |   |   |   |   |--- feature_2 >  0.02\n",
      "|   |   |   |   |   |   |   |   |--- feature_12 <= 0.09\n",
      "|   |   |   |   |   |   |   |   |   |--- feature_3 <= 0.25\n",
      "|   |   |   |   |   |   |   |   |   |   |--- class: True\n",
      "|   |   |   |   |   |   |   |   |   |--- feature_3 >  0.25\n",
      "|   |   |   |   |   |   |   |   |   |   |--- feature_6 <= 0.05\n",
      "|   |   |   |   |   |   |   |   |   |   |   |--- truncated branch of depth 2\n",
      "|   |   |   |   |   |   |   |   |   |   |--- feature_6 >  0.05\n",
      "|   |   |   |   |   |   |   |   |   |   |   |--- truncated branch of depth 3\n",
      "|   |   |   |   |   |   |   |   |--- feature_12 >  0.09\n",
      "|   |   |   |   |   |   |   |   |   |--- class: True\n",
      "|   |   |   |   |   |--- feature_6 >  0.07\n",
      "|   |   |   |   |   |   |--- feature_12 <= 0.05\n",
      "|   |   |   |   |   |   |   |--- feature_6 <= 0.08\n",
      "|   |   |   |   |   |   |   |   |--- feature_11 <= 0.45\n",
      "|   |   |   |   |   |   |   |   |   |--- class: True\n",
      "|   |   |   |   |   |   |   |   |--- feature_11 >  0.45\n",
      "|   |   |   |   |   |   |   |   |   |--- class: False\n",
      "|   |   |   |   |   |   |   |--- feature_6 >  0.08\n",
      "|   |   |   |   |   |   |   |   |--- feature_12 <= 0.02\n",
      "|   |   |   |   |   |   |   |   |   |--- feature_5 <= 0.05\n",
      "|   |   |   |   |   |   |   |   |   |   |--- class: True\n",
      "|   |   |   |   |   |   |   |   |   |--- feature_5 >  0.05\n",
      "|   |   |   |   |   |   |   |   |   |   |--- feature_0 <= 0.04\n",
      "|   |   |   |   |   |   |   |   |   |   |   |--- class: True\n",
      "|   |   |   |   |   |   |   |   |   |   |--- feature_0 >  0.04\n",
      "|   |   |   |   |   |   |   |   |   |   |   |--- class: False\n",
      "|   |   |   |   |   |   |   |   |--- feature_12 >  0.02\n",
      "|   |   |   |   |   |   |   |   |   |--- feature_8 <= 0.84\n",
      "|   |   |   |   |   |   |   |   |   |   |--- feature_1 <= 0.46\n",
      "|   |   |   |   |   |   |   |   |   |   |   |--- truncated branch of depth 2\n",
      "|   |   |   |   |   |   |   |   |   |   |--- feature_1 >  0.46\n",
      "|   |   |   |   |   |   |   |   |   |   |   |--- class: False\n",
      "|   |   |   |   |   |   |   |   |   |--- feature_8 >  0.84\n",
      "|   |   |   |   |   |   |   |   |   |   |--- feature_7 <= 0.92\n",
      "|   |   |   |   |   |   |   |   |   |   |   |--- class: True\n",
      "|   |   |   |   |   |   |   |   |   |   |--- feature_7 >  0.92\n",
      "|   |   |   |   |   |   |   |   |   |   |   |--- truncated branch of depth 2\n",
      "|   |   |   |   |   |   |--- feature_12 >  0.05\n",
      "|   |   |   |   |   |   |   |--- feature_5 <= 0.39\n",
      "|   |   |   |   |   |   |   |   |--- feature_6 <= 0.07\n",
      "|   |   |   |   |   |   |   |   |   |--- feature_2 <= 0.07\n",
      "|   |   |   |   |   |   |   |   |   |   |--- class: True\n",
      "|   |   |   |   |   |   |   |   |   |--- feature_2 >  0.07\n",
      "|   |   |   |   |   |   |   |   |   |   |--- class: False\n",
      "|   |   |   |   |   |   |   |   |--- feature_6 >  0.07\n",
      "|   |   |   |   |   |   |   |   |   |--- class: True\n",
      "|   |   |   |   |   |   |   |--- feature_5 >  0.39\n",
      "|   |   |   |   |   |   |   |   |--- feature_13 <= 0.10\n",
      "|   |   |   |   |   |   |   |   |   |--- class: True\n",
      "|   |   |   |   |   |   |   |   |--- feature_13 >  0.10\n",
      "|   |   |   |   |   |   |   |   |   |--- feature_5 <= 0.81\n",
      "|   |   |   |   |   |   |   |   |   |   |--- class: False\n",
      "|   |   |   |   |   |   |   |   |   |--- feature_5 >  0.81\n",
      "|   |   |   |   |   |   |   |   |   |   |--- class: True\n",
      "|   |   |   |--- feature_1 >  0.88\n",
      "|   |   |   |   |--- feature_2 <= 0.80\n",
      "|   |   |   |   |   |--- feature_4 <= 0.74\n",
      "|   |   |   |   |   |   |--- feature_1 <= 0.92\n",
      "|   |   |   |   |   |   |   |--- class: False\n",
      "|   |   |   |   |   |   |--- feature_1 >  0.92\n",
      "|   |   |   |   |   |   |   |--- class: True\n",
      "|   |   |   |   |   |--- feature_4 >  0.74\n",
      "|   |   |   |   |   |   |--- feature_3 <= 0.39\n",
      "|   |   |   |   |   |   |   |--- feature_5 <= 0.37\n",
      "|   |   |   |   |   |   |   |   |--- feature_5 <= 0.36\n",
      "|   |   |   |   |   |   |   |   |   |--- class: True\n",
      "|   |   |   |   |   |   |   |   |--- feature_5 >  0.36\n",
      "|   |   |   |   |   |   |   |   |   |--- class: False\n",
      "|   |   |   |   |   |   |   |--- feature_5 >  0.37\n",
      "|   |   |   |   |   |   |   |   |--- class: True\n",
      "|   |   |   |   |   |   |--- feature_3 >  0.39\n",
      "|   |   |   |   |   |   |   |--- feature_8 <= 0.42\n",
      "|   |   |   |   |   |   |   |   |--- feature_12 <= 0.85\n",
      "|   |   |   |   |   |   |   |   |   |--- class: False\n",
      "|   |   |   |   |   |   |   |   |--- feature_12 >  0.85\n",
      "|   |   |   |   |   |   |   |   |   |--- class: True\n",
      "|   |   |   |   |   |   |   |--- feature_8 >  0.42\n",
      "|   |   |   |   |   |   |   |   |--- feature_3 <= 0.48\n",
      "|   |   |   |   |   |   |   |   |   |--- feature_11 <= 0.78\n",
      "|   |   |   |   |   |   |   |   |   |   |--- class: False\n",
      "|   |   |   |   |   |   |   |   |   |--- feature_11 >  0.78\n",
      "|   |   |   |   |   |   |   |   |   |   |--- class: True\n",
      "|   |   |   |   |   |   |   |   |--- feature_3 >  0.48\n",
      "|   |   |   |   |   |   |   |   |   |--- class: True\n",
      "|   |   |   |   |--- feature_2 >  0.80\n",
      "|   |   |   |   |   |--- feature_3 <= 0.23\n",
      "|   |   |   |   |   |   |--- class: True\n",
      "|   |   |   |   |   |--- feature_3 >  0.23\n",
      "|   |   |   |   |   |   |--- feature_5 <= 0.61\n",
      "|   |   |   |   |   |   |   |--- feature_11 <= 0.43\n",
      "|   |   |   |   |   |   |   |   |--- feature_5 <= 0.36\n",
      "|   |   |   |   |   |   |   |   |   |--- class: True\n",
      "|   |   |   |   |   |   |   |   |--- feature_5 >  0.36\n",
      "|   |   |   |   |   |   |   |   |   |--- class: False\n",
      "|   |   |   |   |   |   |   |--- feature_11 >  0.43\n",
      "|   |   |   |   |   |   |   |   |--- class: False\n",
      "|   |   |   |   |   |   |--- feature_5 >  0.61\n",
      "|   |   |   |   |   |   |   |--- feature_10 <= 0.90\n",
      "|   |   |   |   |   |   |   |   |--- class: False\n",
      "|   |   |   |   |   |   |   |--- feature_10 >  0.90\n",
      "|   |   |   |   |   |   |   |   |--- feature_12 <= 0.86\n",
      "|   |   |   |   |   |   |   |   |   |--- class: True\n",
      "|   |   |   |   |   |   |   |   |--- feature_12 >  0.86\n",
      "|   |   |   |   |   |   |   |   |   |--- class: False\n",
      "|   |   |--- feature_8 >  0.94\n",
      "|   |   |   |--- feature_6 <= 0.03\n",
      "|   |   |   |   |--- class: False\n",
      "|   |   |   |--- feature_6 >  0.03\n",
      "|   |   |   |   |--- feature_10 <= 0.36\n",
      "|   |   |   |   |   |--- feature_12 <= 0.03\n",
      "|   |   |   |   |   |   |--- class: False\n",
      "|   |   |   |   |   |--- feature_12 >  0.03\n",
      "|   |   |   |   |   |   |--- feature_6 <= 0.06\n",
      "|   |   |   |   |   |   |   |--- feature_8 <= 0.97\n",
      "|   |   |   |   |   |   |   |   |--- class: False\n",
      "|   |   |   |   |   |   |   |--- feature_8 >  0.97\n",
      "|   |   |   |   |   |   |   |   |--- class: True\n",
      "|   |   |   |   |   |   |--- feature_6 >  0.06\n",
      "|   |   |   |   |   |   |   |--- class: True\n",
      "|   |   |   |   |--- feature_10 >  0.36\n",
      "|   |   |   |   |   |--- feature_3 <= 0.67\n",
      "|   |   |   |   |   |   |--- feature_12 <= 0.01\n",
      "|   |   |   |   |   |   |   |--- feature_0 <= 0.55\n",
      "|   |   |   |   |   |   |   |   |--- class: False\n",
      "|   |   |   |   |   |   |   |--- feature_0 >  0.55\n",
      "|   |   |   |   |   |   |   |   |--- class: True\n",
      "|   |   |   |   |   |   |--- feature_12 >  0.01\n",
      "|   |   |   |   |   |   |   |--- feature_11 <= 0.74\n",
      "|   |   |   |   |   |   |   |   |--- class: True\n",
      "|   |   |   |   |   |   |   |--- feature_11 >  0.74\n",
      "|   |   |   |   |   |   |   |   |--- class: False\n",
      "|   |   |   |   |   |--- feature_3 >  0.67\n",
      "|   |   |   |   |   |   |--- feature_5 <= 0.03\n",
      "|   |   |   |   |   |   |   |--- class: True\n",
      "|   |   |   |   |   |   |--- feature_5 >  0.03\n",
      "|   |   |   |   |   |   |   |--- class: False\n",
      "|--- feature_14 >  0.62\n",
      "|   |--- feature_14 <= 0.67\n",
      "|   |   |--- feature_6 <= 0.07\n",
      "|   |   |   |--- feature_8 <= 0.90\n",
      "|   |   |   |   |--- class: False\n",
      "|   |   |   |--- feature_8 >  0.90\n",
      "|   |   |   |   |--- feature_10 <= 0.40\n",
      "|   |   |   |   |   |--- class: False\n",
      "|   |   |   |   |--- feature_10 >  0.40\n",
      "|   |   |   |   |   |--- class: True\n",
      "|   |   |--- feature_6 >  0.07\n",
      "|   |   |   |--- feature_3 <= 0.18\n",
      "|   |   |   |   |--- feature_1 <= 0.84\n",
      "|   |   |   |   |   |--- class: False\n",
      "|   |   |   |   |--- feature_1 >  0.84\n",
      "|   |   |   |   |   |--- class: True\n",
      "|   |   |   |--- feature_3 >  0.18\n",
      "|   |   |   |   |--- feature_12 <= 0.01\n",
      "|   |   |   |   |   |--- feature_2 <= 0.06\n",
      "|   |   |   |   |   |   |--- class: True\n",
      "|   |   |   |   |   |--- feature_2 >  0.06\n",
      "|   |   |   |   |   |   |--- class: False\n",
      "|   |   |   |   |--- feature_12 >  0.01\n",
      "|   |   |   |   |   |--- class: True\n",
      "|   |--- feature_14 >  0.67\n",
      "|   |   |--- feature_11 <= 0.91\n",
      "|   |   |   |--- feature_3 <= 0.43\n",
      "|   |   |   |   |--- class: True\n",
      "|   |   |   |--- feature_3 >  0.43\n",
      "|   |   |   |   |--- feature_3 <= 0.45\n",
      "|   |   |   |   |   |--- feature_9 <= 0.55\n",
      "|   |   |   |   |   |   |--- class: False\n",
      "|   |   |   |   |   |--- feature_9 >  0.55\n",
      "|   |   |   |   |   |   |--- class: True\n",
      "|   |   |   |   |--- feature_3 >  0.45\n",
      "|   |   |   |   |   |--- feature_0 <= 0.38\n",
      "|   |   |   |   |   |   |--- feature_1 <= 0.45\n",
      "|   |   |   |   |   |   |   |--- class: False\n",
      "|   |   |   |   |   |   |--- feature_1 >  0.45\n",
      "|   |   |   |   |   |   |   |--- class: True\n",
      "|   |   |   |   |   |--- feature_0 >  0.38\n",
      "|   |   |   |   |   |   |--- class: True\n",
      "|   |   |--- feature_11 >  0.91\n",
      "|   |   |   |--- feature_6 <= 0.68\n",
      "|   |   |   |   |--- class: False\n",
      "|   |   |   |--- feature_6 >  0.68\n",
      "|   |   |   |   |--- class: True\n",
      "\n"
     ]
    }
   ],
   "source": [
    "tre_rep_text = tree.export_text(dti)\n",
    "print(tre_rep_text)"
   ]
  },
  {
   "cell_type": "markdown",
   "metadata": {},
   "source": [
    "### Gradient Boosting Classifier before optimization "
   ]
  },
  {
   "cell_type": "code",
   "execution_count": 26,
   "metadata": {},
   "outputs": [
    {
     "name": "stdout",
     "output_type": "stream",
     "text": [
      "Test score xg:  0.9\n",
      "Train score xg:  1.0\n"
     ]
    }
   ],
   "source": [
    "xg = XGBClassifier()\n",
    "xg = xg.fit(X_train,y_train)\n",
    "xg_pred=xg.predict(X_test)\n",
    "score_xg=accuracy_score(y_test,xg_pred)\n",
    "print(\"Test score xg: \",score_xg)\n",
    "xg_pred_tr=xg.predict(X_train)\n",
    "score_train_xg=accuracy_score(y_train,xg_pred_tr)\n",
    "print(\"Train score xg: \",score_train_xg)"
   ]
  },
  {
   "cell_type": "markdown",
   "metadata": {},
   "source": [
    "### Optimization of Gradient Boosting Classifier"
   ]
  },
  {
   "cell_type": "markdown",
   "metadata": {},
   "source": [
    "1. Defining the parameters and getting best parameters"
   ]
  },
  {
   "cell_type": "code",
   "execution_count": 27,
   "metadata": {},
   "outputs": [
    {
     "name": "stdout",
     "output_type": "stream",
     "text": [
      "Fitting 3 folds for each of 540 candidates, totalling 1620 fits\n"
     ]
    },
    {
     "name": "stderr",
     "output_type": "stream",
     "text": [
      "[Parallel(n_jobs=4)]: Using backend LokyBackend with 4 concurrent workers.\n",
      "[Parallel(n_jobs=4)]: Done   5 tasks      | elapsed:    1.5s\n",
      "[Parallel(n_jobs=4)]: Done  10 tasks      | elapsed:    1.6s\n",
      "[Parallel(n_jobs=4)]: Done  17 tasks      | elapsed:    1.9s\n",
      "[Parallel(n_jobs=4)]: Done  24 tasks      | elapsed:    2.1s\n",
      "[Parallel(n_jobs=4)]: Done  33 tasks      | elapsed:    2.5s\n",
      "[Parallel(n_jobs=4)]: Done  42 tasks      | elapsed:    2.7s\n",
      "[Parallel(n_jobs=4)]: Done  53 tasks      | elapsed:    3.1s\n",
      "[Parallel(n_jobs=4)]: Done  64 tasks      | elapsed:    3.4s\n",
      "[Parallel(n_jobs=4)]: Done  77 tasks      | elapsed:    3.8s\n",
      "[Parallel(n_jobs=4)]: Done  90 tasks      | elapsed:    4.2s\n",
      "[Parallel(n_jobs=4)]: Done 105 tasks      | elapsed:    4.8s\n",
      "[Parallel(n_jobs=4)]: Done 120 tasks      | elapsed:    5.1s\n",
      "[Parallel(n_jobs=4)]: Done 137 tasks      | elapsed:    5.8s\n",
      "[Parallel(n_jobs=4)]: Done 154 tasks      | elapsed:    6.5s\n",
      "[Parallel(n_jobs=4)]: Done 173 tasks      | elapsed:    7.2s\n",
      "[Parallel(n_jobs=4)]: Done 192 tasks      | elapsed:    7.7s\n",
      "[Parallel(n_jobs=4)]: Done 213 tasks      | elapsed:    8.8s\n",
      "[Parallel(n_jobs=4)]: Done 234 tasks      | elapsed:    9.6s\n",
      "[Parallel(n_jobs=4)]: Done 257 tasks      | elapsed:   10.6s\n",
      "[Parallel(n_jobs=4)]: Done 280 tasks      | elapsed:   11.6s\n",
      "[Parallel(n_jobs=4)]: Done 305 tasks      | elapsed:   12.7s\n",
      "[Parallel(n_jobs=4)]: Done 330 tasks      | elapsed:   13.8s\n",
      "[Parallel(n_jobs=4)]: Done 357 tasks      | elapsed:   14.8s\n",
      "[Parallel(n_jobs=4)]: Done 384 tasks      | elapsed:   15.9s\n",
      "[Parallel(n_jobs=4)]: Done 413 tasks      | elapsed:   17.3s\n",
      "[Parallel(n_jobs=4)]: Done 442 tasks      | elapsed:   18.4s\n",
      "[Parallel(n_jobs=4)]: Done 473 tasks      | elapsed:   19.5s\n",
      "[Parallel(n_jobs=4)]: Done 504 tasks      | elapsed:   20.6s\n",
      "[Parallel(n_jobs=4)]: Done 537 tasks      | elapsed:   21.9s\n",
      "[Parallel(n_jobs=4)]: Done 570 tasks      | elapsed:   23.3s\n",
      "[Parallel(n_jobs=4)]: Done 605 tasks      | elapsed:   24.7s\n",
      "[Parallel(n_jobs=4)]: Done 640 tasks      | elapsed:   26.2s\n",
      "[Parallel(n_jobs=4)]: Done 677 tasks      | elapsed:   28.3s\n",
      "[Parallel(n_jobs=4)]: Done 714 tasks      | elapsed:   29.8s\n",
      "[Parallel(n_jobs=4)]: Done 753 tasks      | elapsed:   31.9s\n",
      "[Parallel(n_jobs=4)]: Done 792 tasks      | elapsed:   33.5s\n",
      "[Parallel(n_jobs=4)]: Done 833 tasks      | elapsed:   35.1s\n",
      "[Parallel(n_jobs=4)]: Done 874 tasks      | elapsed:   36.8s\n",
      "[Parallel(n_jobs=4)]: Done 917 tasks      | elapsed:   38.6s\n",
      "[Parallel(n_jobs=4)]: Done 960 tasks      | elapsed:   40.7s\n",
      "[Parallel(n_jobs=4)]: Done 1005 tasks      | elapsed:   43.4s\n",
      "[Parallel(n_jobs=4)]: Done 1050 tasks      | elapsed:   45.2s\n",
      "[Parallel(n_jobs=4)]: Done 1097 tasks      | elapsed:   47.9s\n",
      "[Parallel(n_jobs=4)]: Done 1144 tasks      | elapsed:   50.3s\n",
      "[Parallel(n_jobs=4)]: Done 1193 tasks      | elapsed:   53.1s\n",
      "[Parallel(n_jobs=4)]: Done 1242 tasks      | elapsed:   55.6s\n",
      "[Parallel(n_jobs=4)]: Done 1293 tasks      | elapsed:   58.2s\n",
      "[Parallel(n_jobs=4)]: Done 1344 tasks      | elapsed:  1.0min\n",
      "[Parallel(n_jobs=4)]: Done 1397 tasks      | elapsed:  1.1min\n",
      "[Parallel(n_jobs=4)]: Done 1450 tasks      | elapsed:  1.1min\n",
      "[Parallel(n_jobs=4)]: Done 1505 tasks      | elapsed:  1.2min\n",
      "[Parallel(n_jobs=4)]: Done 1560 tasks      | elapsed:  1.2min\n",
      "[Parallel(n_jobs=4)]: Done 1620 out of 1620 | elapsed:  1.2min finished\n"
     ]
    },
    {
     "data": {
      "text/plain": [
       "XGBClassifier(base_score=0.5, booster='gbtree', colsample_bylevel=1,\n",
       "              colsample_bynode=1, colsample_bytree=0.6, gamma=0.0, gpu_id=-1,\n",
       "              importance_type='gain', interaction_constraints='',\n",
       "              learning_rate=0.2, max_delta_step=0, max_depth=6,\n",
       "              min_child_weight=7, missing=nan, monotone_constraints='()',\n",
       "              n_estimators=100, n_jobs=0, num_parallel_tree=1, random_state=0,\n",
       "              reg_alpha=0, reg_lambda=1, scale_pos_weight=1, subsample=1,\n",
       "              tree_method='exact', validate_parameters=1, verbosity=None)"
      ]
     },
     "execution_count": 27,
     "metadata": {},
     "output_type": "execute_result"
    }
   ],
   "source": [
    "from xgboost import XGBClassifier\n",
    "xgboost=XGBClassifier()\n",
    "\n",
    "\n",
    "params={\n",
    " \"learning_rate\"    : [0.05, 0.10, 0.15, 0.20,0.25] ,\n",
    " \"max_depth\"        : [ 3, 5, 6],\n",
    " \"min_child_weight\" : [ 1, 3, 5, 7 ],\n",
    " \"gamma\"            : [ 0.0, 0.1, 0.2],\n",
    " \"colsample_bytree\" : [ 0.3, 0.4, 0.6 ]\n",
    "    \n",
    "} \n",
    "\n",
    "xgboost_grid = GridSearchCV(estimator=xgboost , param_grid=params,  cv = 3 ,verbose = 10,n_jobs=4)\n",
    "xgboost_grid.fit(X_train, y_train)\n",
    "xgboost=xgboost_grid.best_estimator_\n",
    "xgboost"
   ]
  },
  {
   "cell_type": "markdown",
   "metadata": {},
   "source": [
    "2. Training and prediction of Gradient Boosting Classifier after optimization"
   ]
  },
  {
   "cell_type": "code",
   "execution_count": 28,
   "metadata": {},
   "outputs": [
    {
     "name": "stdout",
     "output_type": "stream",
     "text": [
      "Testing accuracy after optimization:  89.0\n",
      "Training accuracy after optimization:  99.41666666666666 \n",
      "\n"
     ]
    }
   ],
   "source": [
    "xgboost.fit(X_train, y_train)\n",
    "pred_xgboost_opt = xgboost.predict(X_test)\n",
    "acc_xgboost= metrics.accuracy_score(y_test,pred_xgboost_opt)*100\n",
    "print('Testing accuracy after optimization: ',acc_xgboost)\n",
    "\n",
    "pred_xgbooat_opt_ = xgboost.predict(X_train)\n",
    "acc1_xg= metrics.accuracy_score(y_train,pred_xgbooat_opt_)*100\n",
    "print('Training accuracy after optimization: ',acc1_xg,'\\n')"
   ]
  },
  {
   "cell_type": "markdown",
   "metadata": {},
   "source": [
    "### Support vector before optimization"
   ]
  },
  {
   "cell_type": "code",
   "execution_count": 29,
   "metadata": {},
   "outputs": [
    {
     "name": "stdout",
     "output_type": "stream",
     "text": [
      "Test accuracy before optimization  84.0\n",
      "Train accuracy before optimization : 86.33333333333333\n"
     ]
    },
    {
     "data": {
      "text/plain": [
       "array([[130,  27],\n",
       "       [ 21, 122]], dtype=int64)"
      ]
     },
     "execution_count": 29,
     "metadata": {},
     "output_type": "execute_result"
    }
   ],
   "source": [
    "model_svc = SVC()\n",
    "model_svc.fit(X_train, y_train)\n",
    "predictions = model_svc.predict(X_test)\n",
    "\n",
    "acc_test= metrics.accuracy_score(y_test,predictions)*100\n",
    "print('Test accuracy before optimization ',acc_test)\n",
    "\n",
    "y_pred_tr_svc=model_svc.predict(X_train)\n",
    "print(\"Train accuracy before optimization :\",metrics.accuracy_score(y_train, y_pred_tr_svc)*100)\n",
    "\n",
    "\n",
    "metrics.confusion_matrix(y_test, predictions)"
   ]
  },
  {
   "cell_type": "markdown",
   "metadata": {},
   "source": [
    "### Optimization of Supper vector classifier"
   ]
  },
  {
   "cell_type": "markdown",
   "metadata": {},
   "source": [
    "1. Defining the parameters and getting best parameters"
   ]
  },
  {
   "cell_type": "code",
   "execution_count": 30,
   "metadata": {},
   "outputs": [
    {
     "name": "stdout",
     "output_type": "stream",
     "text": [
      "Fitting 10 folds for each of 105 candidates, totalling 1050 fits\n"
     ]
    },
    {
     "name": "stderr",
     "output_type": "stream",
     "text": [
      "[Parallel(n_jobs=4)]: Using backend LokyBackend with 4 concurrent workers.\n",
      "[Parallel(n_jobs=4)]: Batch computation too fast (0.1619s.) Setting batch_size=2.\n",
      "[Parallel(n_jobs=4)]: Done   5 tasks      | elapsed:    0.2s\n",
      "[Parallel(n_jobs=4)]: Done  12 tasks      | elapsed:    0.6s\n",
      "[Parallel(n_jobs=4)]: Done  26 tasks      | elapsed:    1.1s\n",
      "[Parallel(n_jobs=4)]: Done  40 tasks      | elapsed:    1.7s\n",
      "[Parallel(n_jobs=4)]: Done  58 tasks      | elapsed:    2.4s\n",
      "[Parallel(n_jobs=4)]: Done  76 tasks      | elapsed:    3.0s\n",
      "[Parallel(n_jobs=4)]: Done  98 tasks      | elapsed:    3.7s\n",
      "[Parallel(n_jobs=4)]: Done 120 tasks      | elapsed:    4.3s\n",
      "[Parallel(n_jobs=4)]: Done 146 tasks      | elapsed:    5.0s\n",
      "[Parallel(n_jobs=4)]: Done 172 tasks      | elapsed:    5.7s\n",
      "[Parallel(n_jobs=4)]: Done 202 tasks      | elapsed:    6.7s\n",
      "[Parallel(n_jobs=4)]: Done 232 tasks      | elapsed:    7.5s\n",
      "[Parallel(n_jobs=4)]: Done 266 tasks      | elapsed:    8.4s\n",
      "[Parallel(n_jobs=4)]: Done 300 tasks      | elapsed:    9.4s\n",
      "[Parallel(n_jobs=4)]: Done 338 tasks      | elapsed:   10.5s\n",
      "[Parallel(n_jobs=4)]: Done 376 tasks      | elapsed:   11.4s\n",
      "[Parallel(n_jobs=4)]: Done 418 tasks      | elapsed:   12.5s\n",
      "[Parallel(n_jobs=4)]: Done 460 tasks      | elapsed:   13.5s\n",
      "[Parallel(n_jobs=4)]: Done 506 tasks      | elapsed:   14.7s\n",
      "[Parallel(n_jobs=4)]: Done 552 tasks      | elapsed:   15.9s\n",
      "[Parallel(n_jobs=4)]: Done 602 tasks      | elapsed:   17.2s\n",
      "[Parallel(n_jobs=4)]: Done 652 tasks      | elapsed:   18.8s\n",
      "[Parallel(n_jobs=4)]: Done 706 tasks      | elapsed:   20.1s\n",
      "[Parallel(n_jobs=4)]: Done 760 tasks      | elapsed:   21.6s\n",
      "[Parallel(n_jobs=4)]: Done 818 tasks      | elapsed:   23.5s\n",
      "[Parallel(n_jobs=4)]: Done 876 tasks      | elapsed:   25.2s\n",
      "[Parallel(n_jobs=4)]: Done 938 tasks      | elapsed:   27.2s\n",
      "[Parallel(n_jobs=4)]: Done 1000 tasks      | elapsed:   28.8s\n",
      "[Parallel(n_jobs=4)]: Done 1050 out of 1050 | elapsed:   29.9s finished\n"
     ]
    },
    {
     "data": {
      "text/plain": [
       "SVC(C=3, gamma=1, kernel='poly')"
      ]
     },
     "execution_count": 30,
     "metadata": {},
     "output_type": "execute_result"
    }
   ],
   "source": [
    "  \n",
    "# defining parameter range\n",
    "svc_param_grid = {'C': [0.1, 1,3,4,6,8,10], \n",
    "              'gamma': [1, 0.1, 0.01, 0.001, 0.0001],\n",
    "              'kernel': ['rbf','linear','poly']} \n",
    "\n",
    "svc_em=SVC()\n",
    "svc_grid = GridSearchCV(estimator=svc_em , param_grid=svc_param_grid,  cv = 10 , verbose = 10,n_jobs=4)\n",
    "svc_grid.fit(df_scaled, y)\n",
    "svcc1=svc_grid.best_estimator_\n",
    "svcc1"
   ]
  },
  {
   "cell_type": "markdown",
   "metadata": {},
   "source": [
    "2. Training and predictio after optimization"
   ]
  },
  {
   "cell_type": "code",
   "execution_count": 31,
   "metadata": {},
   "outputs": [
    {
     "name": "stdout",
     "output_type": "stream",
     "text": [
      "Testing accuracy after optimization:  89.33333333333333\n",
      "Training accuracy after optimization:  94.25 \n",
      "\n",
      "Confusion matrix:\n",
      " [[137  20]\n",
      " [ 12 131]] \n",
      "\n",
      "Classification Report Support Vector : \n",
      "\n",
      "              precision    recall  f1-score   support\n",
      "\n",
      "       False       0.92      0.87      0.90       157\n",
      "        True       0.87      0.92      0.89       143\n",
      "\n",
      "    accuracy                           0.89       300\n",
      "   macro avg       0.89      0.89      0.89       300\n",
      "weighted avg       0.89      0.89      0.89       300\n",
      "\n"
     ]
    }
   ],
   "source": [
    "svcc1.fit(X_train, y_train)\n",
    "predictions_optt = svcc1.predict(X_test)\n",
    "acc= metrics.accuracy_score(y_test,predictions_optt)*100\n",
    "print('Testing accuracy after optimization: ',acc)\n",
    "\n",
    "predictions_ = svcc1.predict(X_train)\n",
    "acc1= metrics.accuracy_score(y_train,predictions_)*100\n",
    "print('Training accuracy after optimization: ',acc1,'\\n')\n",
    "\n",
    "print('Confusion matrix:\\n',metrics.confusion_matrix(y_test, predictions_optt),'\\n')\n",
    "print(\"Classification Report Support Vector : \\n\")\n",
    "print(metrics.classification_report(y_test, predictions_optt))"
   ]
  },
  {
   "cell_type": "markdown",
   "metadata": {},
   "source": [
    "### Importing test data and drop the label"
   ]
  },
  {
   "cell_type": "code",
   "execution_count": 32,
   "metadata": {},
   "outputs": [],
   "source": [
    "df_test=pd.read_csv('CE802_P2_Test.csv') \n",
    "df_test=df_test.drop(['Class'],axis=1)"
   ]
  },
  {
   "cell_type": "markdown",
   "metadata": {},
   "source": [
    "### Fill the missing values with mean"
   ]
  },
  {
   "cell_type": "code",
   "execution_count": 33,
   "metadata": {},
   "outputs": [],
   "source": [
    "df_test=df_test.fillna(df_test.mean())"
   ]
  },
  {
   "cell_type": "markdown",
   "metadata": {},
   "source": [
    "### Feature scaling for test data\n"
   ]
  },
  {
   "cell_type": "code",
   "execution_count": 34,
   "metadata": {},
   "outputs": [
    {
     "data": {
      "text/html": [
       "<div>\n",
       "<style scoped>\n",
       "    .dataframe tbody tr th:only-of-type {\n",
       "        vertical-align: middle;\n",
       "    }\n",
       "\n",
       "    .dataframe tbody tr th {\n",
       "        vertical-align: top;\n",
       "    }\n",
       "\n",
       "    .dataframe thead th {\n",
       "        text-align: right;\n",
       "    }\n",
       "</style>\n",
       "<table border=\"1\" class=\"dataframe\">\n",
       "  <thead>\n",
       "    <tr style=\"text-align: right;\">\n",
       "      <th></th>\n",
       "      <th>0</th>\n",
       "      <th>1</th>\n",
       "      <th>2</th>\n",
       "      <th>3</th>\n",
       "      <th>4</th>\n",
       "      <th>5</th>\n",
       "      <th>6</th>\n",
       "      <th>7</th>\n",
       "      <th>8</th>\n",
       "      <th>9</th>\n",
       "      <th>10</th>\n",
       "      <th>11</th>\n",
       "      <th>12</th>\n",
       "      <th>13</th>\n",
       "      <th>14</th>\n",
       "    </tr>\n",
       "  </thead>\n",
       "  <tbody>\n",
       "    <tr>\n",
       "      <th>0</th>\n",
       "      <td>0.546296</td>\n",
       "      <td>0.476675</td>\n",
       "      <td>0.0525</td>\n",
       "      <td>0.337893</td>\n",
       "      <td>0.532847</td>\n",
       "      <td>0.116900</td>\n",
       "      <td>0.080229</td>\n",
       "      <td>0.884615</td>\n",
       "      <td>0.824</td>\n",
       "      <td>0.1</td>\n",
       "      <td>0.449619</td>\n",
       "      <td>0.409524</td>\n",
       "      <td>0.022330</td>\n",
       "      <td>0.655449</td>\n",
       "      <td>0.737089</td>\n",
       "    </tr>\n",
       "    <tr>\n",
       "      <th>1</th>\n",
       "      <td>0.555556</td>\n",
       "      <td>0.374046</td>\n",
       "      <td>0.0250</td>\n",
       "      <td>0.270862</td>\n",
       "      <td>0.515815</td>\n",
       "      <td>0.109911</td>\n",
       "      <td>0.073543</td>\n",
       "      <td>0.884615</td>\n",
       "      <td>0.932</td>\n",
       "      <td>0.1</td>\n",
       "      <td>0.455546</td>\n",
       "      <td>0.452381</td>\n",
       "      <td>0.001942</td>\n",
       "      <td>0.451923</td>\n",
       "      <td>0.599374</td>\n",
       "    </tr>\n",
       "    <tr>\n",
       "      <th>2</th>\n",
       "      <td>0.747685</td>\n",
       "      <td>0.484309</td>\n",
       "      <td>0.2750</td>\n",
       "      <td>0.283174</td>\n",
       "      <td>0.835361</td>\n",
       "      <td>0.437738</td>\n",
       "      <td>0.751671</td>\n",
       "      <td>0.000000</td>\n",
       "      <td>0.220</td>\n",
       "      <td>1.0</td>\n",
       "      <td>0.795936</td>\n",
       "      <td>0.214286</td>\n",
       "      <td>0.558252</td>\n",
       "      <td>0.196314</td>\n",
       "      <td>0.457957</td>\n",
       "    </tr>\n",
       "    <tr>\n",
       "      <th>3</th>\n",
       "      <td>0.792438</td>\n",
       "      <td>0.776930</td>\n",
       "      <td>0.3000</td>\n",
       "      <td>0.084815</td>\n",
       "      <td>0.858070</td>\n",
       "      <td>0.593393</td>\n",
       "      <td>0.579752</td>\n",
       "      <td>0.384615</td>\n",
       "      <td>0.060</td>\n",
       "      <td>1.0</td>\n",
       "      <td>0.661304</td>\n",
       "      <td>0.809524</td>\n",
       "      <td>0.781553</td>\n",
       "      <td>0.212340</td>\n",
       "      <td>0.457957</td>\n",
       "    </tr>\n",
       "    <tr>\n",
       "      <th>4</th>\n",
       "      <td>0.760802</td>\n",
       "      <td>0.927905</td>\n",
       "      <td>0.8625</td>\n",
       "      <td>0.414501</td>\n",
       "      <td>0.867802</td>\n",
       "      <td>0.736341</td>\n",
       "      <td>0.536772</td>\n",
       "      <td>0.769231</td>\n",
       "      <td>0.860</td>\n",
       "      <td>1.0</td>\n",
       "      <td>0.826418</td>\n",
       "      <td>0.571429</td>\n",
       "      <td>0.951456</td>\n",
       "      <td>0.180288</td>\n",
       "      <td>0.580595</td>\n",
       "    </tr>\n",
       "  </tbody>\n",
       "</table>\n",
       "</div>"
      ],
      "text/plain": [
       "         0         1       2         3         4         5         6   \\\n",
       "0  0.546296  0.476675  0.0525  0.337893  0.532847  0.116900  0.080229   \n",
       "1  0.555556  0.374046  0.0250  0.270862  0.515815  0.109911  0.073543   \n",
       "2  0.747685  0.484309  0.2750  0.283174  0.835361  0.437738  0.751671   \n",
       "3  0.792438  0.776930  0.3000  0.084815  0.858070  0.593393  0.579752   \n",
       "4  0.760802  0.927905  0.8625  0.414501  0.867802  0.736341  0.536772   \n",
       "\n",
       "         7      8    9         10        11        12        13        14  \n",
       "0  0.884615  0.824  0.1  0.449619  0.409524  0.022330  0.655449  0.737089  \n",
       "1  0.884615  0.932  0.1  0.455546  0.452381  0.001942  0.451923  0.599374  \n",
       "2  0.000000  0.220  1.0  0.795936  0.214286  0.558252  0.196314  0.457957  \n",
       "3  0.384615  0.060  1.0  0.661304  0.809524  0.781553  0.212340  0.457957  \n",
       "4  0.769231  0.860  1.0  0.826418  0.571429  0.951456  0.180288  0.580595  "
      ]
     },
     "execution_count": 34,
     "metadata": {},
     "output_type": "execute_result"
    }
   ],
   "source": [
    "\n",
    "\n",
    "x2 = df_test.values\n",
    "min_max_scaler_test = preprocessing.MinMaxScaler()\n",
    "x_scaled_test = min_max_scaler_test.fit_transform(x2)\n",
    "df_scaled_test = pd.DataFrame(x_scaled_test)\n",
    "df_scaled_test.head()"
   ]
  },
  {
   "cell_type": "markdown",
   "metadata": {},
   "source": [
    "### Saving the trained model on full data and then saving the model into disk"
   ]
  },
  {
   "cell_type": "code",
   "execution_count": 35,
   "metadata": {},
   "outputs": [
    {
     "data": {
      "text/plain": [
       "['Svc1234.sav']"
      ]
     },
     "execution_count": 35,
     "metadata": {},
     "output_type": "execute_result"
    }
   ],
   "source": [
    "svc_app = svcc1.fit(df_scaled.values, y)\n",
    "model_svc1 = 'Svc1234.sav'\n",
    "joblib.dump(svc_app, model_svc1)\n"
   ]
  },
  {
   "cell_type": "markdown",
   "metadata": {},
   "source": [
    "### Loading the model from disk and getting predictions"
   ]
  },
  {
   "cell_type": "code",
   "execution_count": 36,
   "metadata": {},
   "outputs": [
    {
     "data": {
      "text/plain": [
       "0.5173333333333333"
      ]
     },
     "execution_count": 36,
     "metadata": {},
     "output_type": "execute_result"
    }
   ],
   "source": [
    "pred_svcc = svc_app.predict(df_scaled_test.values)\n",
    "score_final_svc=accuracy_score(y,pred_svcc)\n",
    "score_final_svc"
   ]
  },
  {
   "cell_type": "markdown",
   "metadata": {},
   "source": [
    "### Customer Product (Expensive) prediction "
   ]
  },
  {
   "cell_type": "code",
   "execution_count": 37,
   "metadata": {},
   "outputs": [
    {
     "name": "stdout",
     "output_type": "stream",
     "text": [
      "dict_keys([True, False])\n"
     ]
    },
    {
     "data": {
      "text/plain": [
       "dict_values([475, 1025])"
      ]
     },
     "execution_count": 37,
     "metadata": {},
     "output_type": "execute_result"
    }
   ],
   "source": [
    "from collections import Counter\n",
    "final_list=list(pred_svcc)\n",
    "print(Counter(final_list).keys())\n",
    "Counter(final_list).values()"
   ]
  },
  {
   "cell_type": "markdown",
   "metadata": {},
   "source": [
    "### Converting predicted labels into dataframe and combining with test data"
   ]
  },
  {
   "cell_type": "code",
   "execution_count": 38,
   "metadata": {},
   "outputs": [],
   "source": [
    "pred_final=svc_app.predict(df_scaled_test.values)\n",
    "dataframe_final_test=pd.DataFrame(pred_final, columns=['Class']) "
   ]
  },
  {
   "cell_type": "markdown",
   "metadata": {},
   "source": [
    "### Converting dataframe  into required CSV format"
   ]
  },
  {
   "cell_type": "code",
   "execution_count": 39,
   "metadata": {},
   "outputs": [],
   "source": [
    "predicted_data=pd.concat([df_test, dataframe_final_test], axis=1)\n",
    "predicted_data.to_csv('CE802_P2_Test.csv', sep=',', index=False,header=True)"
   ]
  }
 ],
 "metadata": {
  "kernelspec": {
   "display_name": "Python 3 (ipykernel)",
   "language": "python",
   "name": "python3"
  },
  "language_info": {
   "codemirror_mode": {
    "name": "ipython",
    "version": 3
   },
   "file_extension": ".py",
   "mimetype": "text/x-python",
   "name": "python",
   "nbconvert_exporter": "python",
   "pygments_lexer": "ipython3",
   "version": "3.9.7"
  }
 },
 "nbformat": 4,
 "nbformat_minor": 4
}
